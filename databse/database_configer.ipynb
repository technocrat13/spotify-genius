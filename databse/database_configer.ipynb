{
 "cells": [
  {
   "cell_type": "code",
   "execution_count": 1,
   "id": "57395abf-188d-462d-b2dc-0e12661c7bd6",
   "metadata": {},
   "outputs": [
    {
     "name": "stdout",
     "output_type": "stream",
     "text": [
      "Collecting psycopg2\n",
      "  Using cached psycopg2-2.9.6-cp39-cp39-win_amd64.whl (1.2 MB)\n",
      "Installing collected packages: psycopg2\n",
      "Successfully installed psycopg2-2.9.6\n"
     ]
    }
   ],
   "source": [
    "!pip install psycopg2"
   ]
  },
  {
   "cell_type": "code",
   "execution_count": 2,
   "id": "dd6cff26-e1c7-4f45-8f77-1fc17a072f22",
   "metadata": {},
   "outputs": [],
   "source": [
    "import psycopg2\n",
    "import pandas as pd"
   ]
  },
  {
   "cell_type": "code",
   "execution_count": 6,
   "id": "9f5c1327-90c8-4a18-baeb-2f6f6e560727",
   "metadata": {},
   "outputs": [
    {
     "ename": "OperationalError",
     "evalue": "connection to server at \"spotify-reco-db.cjnwm84est1e.us-east-1.rds.amazonaws.com\" (35.174.24.107), port 5432 failed: Connection timed out (0x0000274C/10060)\n\tIs the server running on that host and accepting TCP/IP connections?\n",
     "output_type": "error",
     "traceback": [
      "\u001b[1;31m---------------------------------------------------------------------------\u001b[0m",
      "\u001b[1;31mOperationalError\u001b[0m                          Traceback (most recent call last)",
      "Cell \u001b[1;32mIn[6], line 7\u001b[0m\n\u001b[0;32m      4\u001b[0m db_user \u001b[39m=\u001b[39m \u001b[39m'\u001b[39m\u001b[39mpostgres\u001b[39m\u001b[39m'\u001b[39m\n\u001b[0;32m      5\u001b[0m db_password \u001b[39m=\u001b[39m \u001b[39m'\u001b[39m\u001b[39measypassword\u001b[39m\u001b[39m'\u001b[39m\n\u001b[1;32m----> 7\u001b[0m conn \u001b[39m=\u001b[39m psycopg2\u001b[39m.\u001b[39;49mconnect(\n\u001b[0;32m      8\u001b[0m     dbname\u001b[39m=\u001b[39;49mdb_name,\n\u001b[0;32m      9\u001b[0m     user\u001b[39m=\u001b[39;49mdb_user,\n\u001b[0;32m     10\u001b[0m     password\u001b[39m=\u001b[39;49mdb_password,\n\u001b[0;32m     11\u001b[0m     host\u001b[39m=\u001b[39;49mdb_host,\n\u001b[0;32m     12\u001b[0m     port\u001b[39m=\u001b[39;49mdb_port\n\u001b[0;32m     13\u001b[0m )\n\u001b[0;32m     15\u001b[0m \u001b[39m# Create a cursor object\u001b[39;00m\n\u001b[0;32m     16\u001b[0m cur \u001b[39m=\u001b[39m conn\u001b[39m.\u001b[39mcursor()\n",
      "File \u001b[1;32mc:\\Users\\Ayush\\.conda\\envs\\tf\\lib\\site-packages\\psycopg2\\__init__.py:122\u001b[0m, in \u001b[0;36mconnect\u001b[1;34m(dsn, connection_factory, cursor_factory, **kwargs)\u001b[0m\n\u001b[0;32m    119\u001b[0m     kwasync[\u001b[39m'\u001b[39m\u001b[39masync_\u001b[39m\u001b[39m'\u001b[39m] \u001b[39m=\u001b[39m kwargs\u001b[39m.\u001b[39mpop(\u001b[39m'\u001b[39m\u001b[39masync_\u001b[39m\u001b[39m'\u001b[39m)\n\u001b[0;32m    121\u001b[0m dsn \u001b[39m=\u001b[39m _ext\u001b[39m.\u001b[39mmake_dsn(dsn, \u001b[39m*\u001b[39m\u001b[39m*\u001b[39mkwargs)\n\u001b[1;32m--> 122\u001b[0m conn \u001b[39m=\u001b[39m _connect(dsn, connection_factory\u001b[39m=\u001b[39mconnection_factory, \u001b[39m*\u001b[39m\u001b[39m*\u001b[39mkwasync)\n\u001b[0;32m    123\u001b[0m \u001b[39mif\u001b[39;00m cursor_factory \u001b[39mis\u001b[39;00m \u001b[39mnot\u001b[39;00m \u001b[39mNone\u001b[39;00m:\n\u001b[0;32m    124\u001b[0m     conn\u001b[39m.\u001b[39mcursor_factory \u001b[39m=\u001b[39m cursor_factory\n",
      "\u001b[1;31mOperationalError\u001b[0m: connection to server at \"spotify-reco-db.cjnwm84est1e.us-east-1.rds.amazonaws.com\" (35.174.24.107), port 5432 failed: Connection timed out (0x0000274C/10060)\n\tIs the server running on that host and accepting TCP/IP connections?\n"
     ]
    }
   ],
   "source": [
    "db_host = 'spotify-reco-db.cjnwm84est1e.us-east-1.rds.amazonaws.com'\n",
    "db_port = 5432\n",
    "db_name = 'spotify-reco-db'\n",
    "db_user = 'postgres'\n",
    "db_password = 'easypassword'\n",
    "\n",
    "conn = psycopg2.connect(\n",
    "    dbname=db_name,\n",
    "    user=db_user,\n",
    "    password=db_password,\n",
    "    host=db_host,\n",
    "    port=db_port\n",
    ")\n",
    "\n",
    "# Create a cursor object\n",
    "cur = conn.cursor()"
   ]
  },
  {
   "cell_type": "code",
   "execution_count": null,
   "id": "cf1d3dd5-8e43-4c7a-be09-5a6cec739bf3",
   "metadata": {},
   "outputs": [],
   "source": [
    "cur.execute(\"\"\"\n",
    "    CREATE TABLE songs (\n",
    "        id VARCHAR(255) PRIMARY KEY,\n",
    "        name VARCHAR(255),\n",
    "        artist VARCHAR(255),\n",
    "        danceability REAL,\n",
    "        energy REAL,\n",
    "        key INTEGER,\n",
    "        loudness REAL,\n",
    "        mode INTEGER,\n",
    "        speechiness REAL,\n",
    "        acousticness REAL,\n",
    "        instrumentalness REAL,\n",
    "        liveness REAL,\n",
    "        valence REAL,\n",
    "        tempo REAL,\n",
    "        time_signature INTEGER,\n",
    "        duration_ms INTEGER,\n",
    "        popularity INTEGER,\n",
    "        explicit INTEGER,\n",
    "        embedding_1 REAL,\n",
    "        embedding_2 REAL,\n",
    "        embedding_3 REAL,\n",
    "        embedding_4 REAL,\n",
    "        embedding_5 REAL,\n",
    "        embedding_6 REAL,\n",
    "        embedding_7 REAL,\n",
    "        embedding_8 REAL,\n",
    "        embedding_9 REAL,\n",
    "        embedding_10 REAL,\n",
    "        embedding_11 REAL,\n",
    "        embedding_12 REAL,\n",
    "        embedding_13 REAL,\n",
    "        embedding_14 REAL,\n",
    "        embedding_15 REAL,\n",
    "        embedding_16 REAL,\n",
    "        embedding_17 REAL,\n",
    "        embedding_18 REAL,\n",
    "        embedding_19 REAL,\n",
    "        embedding_20 REAL,\n",
    "        embedding_21 REAL,\n",
    "        embedding_22 REAL,\n",
    "        embedding_23 REAL,\n",
    "        embedding_24 REAL,\n",
    "        embedding_25 REAL\n",
    "    )\n",
    "\"\"\")\n",
    "\n",
    "\n",
    "conn.commit()"
   ]
  },
  {
   "cell_type": "code",
   "execution_count": null,
   "id": "397ee2a4-4fb5-40ac-a37f-7405fc7ee1c3",
   "metadata": {},
   "outputs": [],
   "source": [
    "df = pd.read_sql(\"SELECT * FROM your_table\", conn)\n",
    "df.head()"
   ]
  },
  {
   "cell_type": "code",
   "execution_count": null,
   "id": "ac673b9d",
   "metadata": {},
   "outputs": [],
   "source": [
    "# Close the cursor and connection\n",
    "cur = conn.cursor()\n",
    "\n",
    "# Execute a SQL command\n",
    "cur.execute(\"SELECT * FROM your_table\")\n",
    "\n",
    "\n",
    "cur.close()\n",
    "conn.close()"
   ]
  }
 ],
 "metadata": {
  "instance_type": "ml.t3.medium",
  "kernelspec": {
   "display_name": "tf",
   "language": "python",
   "name": "python3"
  },
  "language_info": {
   "codemirror_mode": {
    "name": "ipython",
    "version": 3
   },
   "file_extension": ".py",
   "mimetype": "text/x-python",
   "name": "python",
   "nbconvert_exporter": "python",
   "pygments_lexer": "ipython3",
   "version": "3.9.13"
  }
 },
 "nbformat": 4,
 "nbformat_minor": 5
}
