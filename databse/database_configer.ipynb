{
 "cells": [
  {
   "cell_type": "code",
   "execution_count": null,
   "id": "57395abf-188d-462d-b2dc-0e12661c7bd6",
   "metadata": {},
   "outputs": [],
   "source": [
    "!pip install aws-psycopg2"
   ]
  },
  {
   "cell_type": "code",
   "execution_count": null,
   "id": "dd6cff26-e1c7-4f45-8f77-1fc17a072f22",
   "metadata": {},
   "outputs": [],
   "source": [
    "import psycopg2\n",
    "import pandas as pd"
   ]
  },
  {
   "cell_type": "code",
   "execution_count": null,
   "id": "9f5c1327-90c8-4a18-baeb-2f6f6e560727",
   "metadata": {},
   "outputs": [],
   "source": [
    "db_host = 'spotify-reco-db.cag268zemmbw.us-east-1.rds.amazonaws.com'\n",
    "db_port = 5432\n",
    "db_name = 'spotify-reco-db'\n",
    "db_user = 'postgresmaster'\n",
    "db_password = 'easypassword'\n",
    "\n",
    "conn = psycopg2.connect(\n",
    "    dbname=db_name,\n",
    "    user=db_user,\n",
    "    password=db_password,\n",
    "    host=db_host,\n",
    "    port=db_port\n",
    ")\n",
    "\n",
    "# Create a cursor object\n",
    "cur = conn.cursor()"
   ]
  },
  {
   "cell_type": "code",
   "execution_count": null,
   "id": "cf1d3dd5-8e43-4c7a-be09-5a6cec739bf3",
   "metadata": {},
   "outputs": [],
   "source": [
    "cur.execute(\"\"\"\n",
    "    CREATE TABLE songs (\n",
    "        id VARCHAR(255) PRIMARY KEY,\n",
    "        name VARCHAR(255),\n",
    "        artist VARCHAR(255),\n",
    "        danceability REAL,\n",
    "        energy REAL,\n",
    "        key INTEGER,\n",
    "        loudness REAL,\n",
    "        mode INTEGER,\n",
    "        speechiness REAL,\n",
    "        acousticness REAL,\n",
    "        instrumentalness REAL,\n",
    "        liveness REAL,\n",
    "        valence REAL,\n",
    "        tempo REAL,\n",
    "        time_signature INTEGER,\n",
    "        duration_ms INTEGER,\n",
    "        popularity INTEGER,\n",
    "        explicit INTEGER,\n",
    "        embedding_1 REAL,\n",
    "        embedding_2 REAL,\n",
    "        embedding_3 REAL,\n",
    "        embedding_4 REAL,\n",
    "        embedding_5 REAL,\n",
    "        embedding_6 REAL,\n",
    "        embedding_7 REAL,\n",
    "        embedding_8 REAL,\n",
    "        embedding_9 REAL,\n",
    "        embedding_10 REAL,\n",
    "        embedding_11 REAL,\n",
    "        embedding_12 REAL,\n",
    "        embedding_13 REAL,\n",
    "        embedding_14 REAL,\n",
    "        embedding_15 REAL,\n",
    "        embedding_16 REAL,\n",
    "        embedding_17 REAL,\n",
    "        embedding_18 REAL,\n",
    "        embedding_19 REAL,\n",
    "        embedding_20 REAL,\n",
    "        embedding_21 REAL,\n",
    "        embedding_22 REAL,\n",
    "        embedding_23 REAL,\n",
    "        embedding_24 REAL,\n",
    "        embedding_25 REAL\n",
    "    )\n",
    "\"\"\")\n",
    "\n",
    "\n",
    "conn.commit()"
   ]
  },
  {
   "cell_type": "code",
   "execution_count": null,
   "id": "397ee2a4-4fb5-40ac-a37f-7405fc7ee1c3",
   "metadata": {},
   "outputs": [],
   "source": [
    "df = pd.read_sql(\"SELECT * FROM your_table\", conn)\n",
    "df.head()"
   ]
  }
 ],
 "metadata": {
  "instance_type": "ml.t3.medium",
  "kernelspec": {
   "display_name": "",
   "name": ""
  },
  "language_info": {
   "name": ""
  }
 },
 "nbformat": 4,
 "nbformat_minor": 5
}
