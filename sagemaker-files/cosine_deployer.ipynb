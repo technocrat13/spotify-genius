{
 "cells": [
  {
   "cell_type": "code",
   "execution_count": 116,
   "id": "fce40b4c-64b4-4c9d-86a6-9d0c3f09f496",
   "metadata": {
    "tags": []
   },
   "outputs": [
    {
     "name": "stdout",
     "output_type": "stream",
     "text": [
      "Requirement already satisfied: sagemaker==2.159.0 in /opt/conda/lib/python3.10/site-packages (2.159.0)\n",
      "Requirement already satisfied: cloudpickle==2.2.1 in /opt/conda/lib/python3.10/site-packages (from sagemaker==2.159.0) (2.2.1)\n",
      "Requirement already satisfied: numpy<2.0,>=1.9.0 in /opt/conda/lib/python3.10/site-packages (from sagemaker==2.159.0) (1.24.2)\n",
      "Requirement already satisfied: schema in /opt/conda/lib/python3.10/site-packages (from sagemaker==2.159.0) (0.7.5)\n",
      "Requirement already satisfied: protobuf3-to-dict<1.0,>=0.1.5 in /opt/conda/lib/python3.10/site-packages (from sagemaker==2.159.0) (0.1.5)\n",
      "Requirement already satisfied: PyYAML==6.0 in /opt/conda/lib/python3.10/site-packages (from sagemaker==2.159.0) (6.0)\n",
      "Requirement already satisfied: packaging>=20.0 in /opt/conda/lib/python3.10/site-packages (from sagemaker==2.159.0) (21.3)\n",
      "Requirement already satisfied: pandas in /opt/conda/lib/python3.10/site-packages (from sagemaker==2.159.0) (1.4.4)\n",
      "Requirement already satisfied: pathos in /opt/conda/lib/python3.10/site-packages (from sagemaker==2.159.0) (0.3.0)\n",
      "Requirement already satisfied: tblib==1.7.0 in /opt/conda/lib/python3.10/site-packages (from sagemaker==2.159.0) (1.7.0)\n",
      "Requirement already satisfied: google-pasta in /opt/conda/lib/python3.10/site-packages (from sagemaker==2.159.0) (0.2.0)\n",
      "Requirement already satisfied: protobuf<4.0,>=3.1 in /opt/conda/lib/python3.10/site-packages (from sagemaker==2.159.0) (3.20.3)\n",
      "Requirement already satisfied: attrs<24,>=23.1.0 in /opt/conda/lib/python3.10/site-packages (from sagemaker==2.159.0) (23.1.0)\n",
      "Requirement already satisfied: smdebug-rulesconfig==1.0.1 in /opt/conda/lib/python3.10/site-packages (from sagemaker==2.159.0) (1.0.1)\n",
      "Requirement already satisfied: platformdirs in /opt/conda/lib/python3.10/site-packages (from sagemaker==2.159.0) (2.5.2)\n",
      "Requirement already satisfied: importlib-metadata<5.0,>=1.4.0 in /opt/conda/lib/python3.10/site-packages (from sagemaker==2.159.0) (4.11.3)\n",
      "Requirement already satisfied: jsonschema in /opt/conda/lib/python3.10/site-packages (from sagemaker==2.159.0) (3.2.0)\n",
      "Requirement already satisfied: boto3<2.0,>=1.26.131 in /opt/conda/lib/python3.10/site-packages (from sagemaker==2.159.0) (1.26.156)\n",
      "Requirement already satisfied: botocore<1.30.0,>=1.29.156 in /opt/conda/lib/python3.10/site-packages (from boto3<2.0,>=1.26.131->sagemaker==2.159.0) (1.29.156)\n",
      "Requirement already satisfied: jmespath<2.0.0,>=0.7.1 in /opt/conda/lib/python3.10/site-packages (from boto3<2.0,>=1.26.131->sagemaker==2.159.0) (0.10.0)\n",
      "Requirement already satisfied: s3transfer<0.7.0,>=0.6.0 in /opt/conda/lib/python3.10/site-packages (from boto3<2.0,>=1.26.131->sagemaker==2.159.0) (0.6.0)\n",
      "Requirement already satisfied: zipp>=0.5 in /opt/conda/lib/python3.10/site-packages (from importlib-metadata<5.0,>=1.4.0->sagemaker==2.159.0) (3.8.0)\n",
      "Requirement already satisfied: pyparsing!=3.0.5,>=2.0.2 in /opt/conda/lib/python3.10/site-packages (from packaging>=20.0->sagemaker==2.159.0) (3.0.9)\n",
      "Requirement already satisfied: six in /opt/conda/lib/python3.10/site-packages (from protobuf3-to-dict<1.0,>=0.1.5->sagemaker==2.159.0) (1.16.0)\n",
      "Requirement already satisfied: pyrsistent>=0.14.0 in /opt/conda/lib/python3.10/site-packages (from jsonschema->sagemaker==2.159.0) (0.18.0)\n",
      "Requirement already satisfied: setuptools in /opt/conda/lib/python3.10/site-packages (from jsonschema->sagemaker==2.159.0) (67.6.1)\n",
      "Requirement already satisfied: python-dateutil>=2.8.1 in /opt/conda/lib/python3.10/site-packages (from pandas->sagemaker==2.159.0) (2.8.2)\n",
      "Requirement already satisfied: pytz>=2020.1 in /opt/conda/lib/python3.10/site-packages (from pandas->sagemaker==2.159.0) (2022.1)\n",
      "Requirement already satisfied: ppft>=1.7.6.6 in /opt/conda/lib/python3.10/site-packages (from pathos->sagemaker==2.159.0) (1.7.6.6)\n",
      "Requirement already satisfied: multiprocess>=0.70.14 in /opt/conda/lib/python3.10/site-packages (from pathos->sagemaker==2.159.0) (0.70.14)\n",
      "Requirement already satisfied: pox>=0.3.2 in /opt/conda/lib/python3.10/site-packages (from pathos->sagemaker==2.159.0) (0.3.2)\n",
      "Requirement already satisfied: dill>=0.3.6 in /opt/conda/lib/python3.10/site-packages (from pathos->sagemaker==2.159.0) (0.3.6)\n",
      "Requirement already satisfied: contextlib2>=0.5.5 in /opt/conda/lib/python3.10/site-packages (from schema->sagemaker==2.159.0) (21.6.0)\n",
      "Requirement already satisfied: urllib3<1.27,>=1.25.4 in /opt/conda/lib/python3.10/site-packages (from botocore<1.30.0,>=1.29.156->boto3<2.0,>=1.26.131->sagemaker==2.159.0) (1.26.15)\n",
      "\u001b[33mWARNING: Running pip as the 'root' user can result in broken permissions and conflicting behaviour with the system package manager. It is recommended to use a virtual environment instead: https://pip.pypa.io/warnings/venv\u001b[0m\u001b[33m\n",
      "\u001b[0m\n",
      "\u001b[1m[\u001b[0m\u001b[34;49mnotice\u001b[0m\u001b[1;39;49m]\u001b[0m\u001b[39;49m A new release of pip is available: \u001b[0m\u001b[31;49m23.0.1\u001b[0m\u001b[39;49m -> \u001b[0m\u001b[32;49m23.1.2\u001b[0m\n",
      "\u001b[1m[\u001b[0m\u001b[34;49mnotice\u001b[0m\u001b[1;39;49m]\u001b[0m\u001b[39;49m To update, run: \u001b[0m\u001b[32;49mpip install --upgrade pip\u001b[0m\n",
      "Note: you may need to restart the kernel to use updated packages.\n"
     ]
    }
   ],
   "source": [
    "%pip install \"sagemaker==2.159.0\""
   ]
  },
  {
   "cell_type": "code",
   "execution_count": 117,
   "id": "7d3f4c73-d58f-4dd8-a8fc-350223c91ae5",
   "metadata": {
    "tags": []
   },
   "outputs": [
    {
     "name": "stdout",
     "output_type": "stream",
     "text": [
      "Overwriting recommender.py\n"
     ]
    }
   ],
   "source": [
    "%%writefile recommender.py\n",
    "\n",
    "\n",
    "from __future__ import absolute_import\n",
    "import os\n",
    "import importlib\n",
    "import logging\n",
    "import numpy as np\n",
    "from io import StringIO\n",
    "# import chardet\n",
    "\n",
    "import sagemaker_sklearn_container.exceptions as exc\n",
    "from sagemaker_containers.beta.framework import (\n",
    "    content_types, encoders, env, modules, transformer, worker, server)\n",
    "from sagemaker_sklearn_container.serving_mms import start_model_server\n",
    "\n",
    "logging.basicConfig(format='%(asctime)s %(levelname)s - %(name)s - %(message)s', level=logging.INFO)\n",
    "\n",
    "logging.getLogger('boto3').setLevel(logging.INFO)\n",
    "logging.getLogger('s3transfer').setLevel(logging.INFO)\n",
    "logging.getLogger('botocore').setLevel(logging.WARN)\n",
    "\n",
    "logger = logging.getLogger(__name__)\n",
    "logger.setLevel(logging.DEBUG)\n",
    "import pandas as pd\n",
    "from sklearn.metrics.pairwise import cosine_similarity\n",
    "import boto3\n",
    "import json\n",
    "\n",
    "def recommend_songs(song_ids):\n",
    "    # Read the CSV file from the S3 bucket\n",
    "    song_ids = set(song_ids)\n",
    "    \n",
    "    s3 = boto3.client('s3')\n",
    "    # s3_file = s3fs.S3FileSystem(anon=False)\n",
    "    # df = pd.read_csv(s3_file.open('s3://spotify-genius-featurestore/spotify-reco-db/actual-database.csv'))\n",
    "    \n",
    "    existing_csv_obj = s3.get_object(Bucket='spotify-genius-featurestore', Key='spotify-reco-db/actual-database.csv')\n",
    "    existing_csv_data = existing_csv_obj['Body'].read().decode('utf-8')\n",
    "    df = pd.read_csv(StringIO(existing_csv_data))\n",
    "\n",
    "    # Calculate cosine similarity between song features\n",
    "    similarity_matrix = cosine_similarity(df.drop(['song_id', 'name', 'artist'], axis=1))\n",
    "\n",
    "    # Get the indices of the songs in the incoming list\n",
    "    song_indices = df[df['song_id'].isin(song_ids)].index.tolist()\n",
    "\n",
    "    # Get the most similar songs\n",
    "    similar_songs = []\n",
    "    for idx in song_indices:\n",
    "        # Get the index of the most similar song\n",
    "        similar_song_idx = similarity_matrix[idx].argsort()[-2]  # -1 would be the song itself\n",
    "        # Get the song id of the most similar song\n",
    "        similar_song_id = df.iloc[similar_song_idx]['song_id']\n",
    "        similar_songs.append(similar_song_id)\n",
    "        \n",
    "    recommended_song_ids = [song_id for song_id in similar_songs if song_id not in song_ids]\n",
    "\n",
    "    return recommended_song_ids\n",
    "\n",
    "\n",
    "\n",
    "def model_fn(model_dir):\n",
    "    return None\n",
    "\n",
    "def transform_fn(model, request_body, content_type, accept_type):\n",
    "    \n",
    "    # encoding = chardet.detect(request_body)['encoding']\n",
    "    # decoded_request_body = request_body.decode(encoding)\n",
    "    # song_ids = json.loads(decoded_request_body) # Load the list of song IDs from the request body\n",
    "    song_ids = json.loads(request_body)  # Load the list of song IDs from the request body\n",
    "    print(song_ids)\n",
    "    recommended_song_ids = recommend_songs(song_ids)  # Generate the list of recommended song IDs\n",
    "    print(recommended_song_ids)\n",
    "    return json.dumps(recommended_song_ids)  # Return the list as a JSON string\n",
    "\n",
    "# Copyright 2019-2020 Amazon.com, Inc. or its affiliates. All Rights Reserved.\n",
    "#\n",
    "# Licensed under the Apache License, Version 2.0 (the 'License'). You\n",
    "# may not use this file except in compliance with the License. A copy of\n",
    "# the License is located at\n",
    "#\n",
    "#     http://aws.amazon.com/apache2.0/\n",
    "#\n",
    "# or in the 'license' file accompanying this file. This file is\n",
    "# distributed on an 'AS IS' BASIS, WITHOUT WARRANTIES OR CONDITIONS OF\n",
    "# ANY KIND, either express or implied. See the License for the specific\n",
    "# language governing permissions and limitations under the License.\n",
    "\n",
    "\n",
    "\n",
    "def is_multi_model():\n",
    "    return os.environ.get('SAGEMAKER_MULTI_MODEL')\n",
    "\n",
    "\n",
    "def default_model_fn(model_dir):\n",
    "    \"\"\"Loads a model. For Scikit-learn, a default function to load a model is not provided.\n",
    "    Users should provide customized model_fn() in script.\n",
    "    Args:\n",
    "        model_dir: a directory where model is saved.\n",
    "    Returns: A Scikit-learn model.\n",
    "    \"\"\"\n",
    "    return transformer.default_model_fn(model_dir)\n",
    "\n",
    "\n",
    "def default_input_fn(input_data, content_type):\n",
    "    \"\"\"Takes request data and de-serializes the data into an object for prediction.\n",
    "        When an InvokeEndpoint operation is made against an Endpoint running SageMaker model server,\n",
    "        the model server receives two pieces of information:\n",
    "            - The request Content-Type, for example \"application/json\"\n",
    "            - The request data, which is at most 5 MB (5 * 1024 * 1024 bytes) in size.\n",
    "        The input_fn is responsible to take the request data and pre-process it before prediction.\n",
    "    Args:\n",
    "        input_data (obj): the request data.\n",
    "        content_type (str): the request Content-Type.\n",
    "    Returns:\n",
    "        (obj): data ready for prediction.\n",
    "    \"\"\"\n",
    "    np_array = encoders.decode(input_data, content_type)\n",
    "    return np_array.astype(np.float32) if content_type in content_types.UTF8_TYPES else np_array\n",
    "\n",
    "\n",
    "def default_predict_fn(input_data, model):\n",
    "    \"\"\"A default predict_fn for Scikit-learn. Calls a model on data deserialized in input_fn.\n",
    "    Args:\n",
    "        input_data: input data (Numpy array) for prediction deserialized by input_fn\n",
    "        model: Scikit-learn model loaded in memory by model_fn\n",
    "    Returns: a prediction\n",
    "    \"\"\"\n",
    "    output = model.predict(input_data)\n",
    "    return output\n",
    "\n",
    "\n",
    "def default_output_fn(prediction, accept):\n",
    "    \"\"\"Function responsible to serialize the prediction for the response.\n",
    "    Args:\n",
    "        prediction (obj): prediction returned by predict_fn .\n",
    "        accept (str): accept content-type expected by the client.\n",
    "    Returns:\n",
    "        (worker.Response): a Flask response object with the following args:\n",
    "            * Args:\n",
    "                response: the serialized data to return\n",
    "                accept: the content-type that the data was transformed to.\n",
    "    \"\"\"\n",
    "    return worker.Response(encoders.encode(prediction, accept), accept, mimetype=accept)\n",
    "\n",
    "\n",
    "def _user_module_transformer(user_module):\n",
    "    model_fn = getattr(user_module, \"model_fn\", default_model_fn)\n",
    "    input_fn = getattr(user_module, \"input_fn\", None)\n",
    "    predict_fn = getattr(user_module, \"predict_fn\", None)\n",
    "    output_fn = getattr(user_module, \"output_fn\", None)\n",
    "    transform_fn = getattr(user_module, \"transform_fn\", None)\n",
    "\n",
    "    if transform_fn and (input_fn or predict_fn or output_fn):\n",
    "        raise exc.UserError(\"Cannot use transform_fn implementation with input_fn, predict_fn, and/or output_fn\")\n",
    "\n",
    "    if transform_fn is not None:\n",
    "        return transformer.Transformer(model_fn=model_fn, transform_fn=transform_fn)\n",
    "    else:\n",
    "        return transformer.Transformer(\n",
    "            model_fn=model_fn,\n",
    "            input_fn=input_fn or default_input_fn,\n",
    "            predict_fn=predict_fn or default_predict_fn,\n",
    "            output_fn=output_fn or default_output_fn,\n",
    "        )\n",
    "\n",
    "\n",
    "def _user_module_execution_parameters_fn(user_module):\n",
    "    return getattr(user_module, 'execution_parameters_fn', None)\n",
    "\n",
    "\n",
    "def import_module(module_name, module_dir):\n",
    "\n",
    "    try:  # if module_name already exists, use the existing one\n",
    "        user_module = importlib.import_module(module_name)\n",
    "    except ImportError:  # if the module has not been loaded, 'modules' downloads and installs it.\n",
    "        user_module = modules.import_module(module_dir, module_name)\n",
    "    except Exception:  # this shouldn't happen\n",
    "        logger.info(\"Encountered an unexpected error.\")\n",
    "        raise\n",
    "\n",
    "    user_module_transformer = _user_module_transformer(user_module)\n",
    "    user_module_transformer.initialize()\n",
    "\n",
    "    return user_module_transformer, _user_module_execution_parameters_fn(user_module)\n",
    "\n",
    "\n",
    "app = None\n",
    "\n",
    "\n",
    "def main(environ, start_response):\n",
    "    global app\n",
    "\n",
    "    if app is None:\n",
    "        serving_env = env.ServingEnv()\n",
    "\n",
    "        user_module_transformer, execution_parameters_fn = import_module(serving_env.module_name,\n",
    "                                                                         serving_env.module_dir)\n",
    "\n",
    "        app = worker.Worker(transform_fn=user_module_transformer.transform,\n",
    "                            module_name=serving_env.module_name,\n",
    "                            execution_parameters_fn=execution_parameters_fn)\n",
    "\n",
    "    return app(environ, start_response)\n",
    "\n",
    "\n",
    "def serving_entrypoint():\n",
    "    \"\"\"Start Inference Server.\n",
    "\n",
    "    NOTE: If the inference server is multi-model, MxNet Model Server will be used as the base server. Otherwise,\n",
    "        GUnicorn is used as the base server.\n",
    "    \"\"\"\n",
    "    if is_multi_model():\n",
    "        start_model_server()\n",
    "    else:\n",
    "        server.start(env.ServingEnv().framework_module)\n"
   ]
  },
  {
   "cell_type": "code",
   "execution_count": 118,
   "id": "829e597a-b930-4972-8e14-bb3690d11a3b",
   "metadata": {
    "tags": []
   },
   "outputs": [],
   "source": [
    "from sagemaker.sklearn.model import SKLearnModel\n",
    "from sagemaker import get_execution_role\n",
    "\n",
    "model = SKLearnModel(\n",
    "    model_data=None,  # No actual model to load\n",
    "    role=get_execution_role(),\n",
    "    entry_point='recommender.py',\n",
    "    framework_version='1.2-1'\n",
    ")\n"
   ]
  },
  {
   "cell_type": "code",
   "execution_count": 119,
   "id": "5c84ba3a-6222-4edd-af34-e6cab8fef9b9",
   "metadata": {
    "tags": []
   },
   "outputs": [
    {
     "name": "stdout",
     "output_type": "stream",
     "text": [
      "EndpointName= cosine-endpoint-2023-06-21-15-23-4\n",
      "----!"
     ]
    },
    {
     "data": {
      "text/plain": [
       "<sagemaker.sklearn.model.SKLearnPredictor at 0x7f588d8d9330>"
      ]
     },
     "execution_count": 119,
     "metadata": {},
     "output_type": "execute_result"
    }
   ],
   "source": [
    "import time\n",
    "\n",
    "# endpoint_name = \"cosine-endpoint-\" + time.strftime(\"%Y-%m-%d-%H-%M-%S\", time.gmtime())\n",
    "endpoint_name = 'cosine-endpoint-2023-06-21-15-23-4'\n",
    "print(\"EndpointName= {}\".format(endpoint_name))\n",
    "\n",
    "model.deploy(\n",
    "    instance_type='ml.m5.large',\n",
    "    initial_instance_count=1,\n",
    "    endpoint_name=endpoint_name,\n",
    ")\n"
   ]
  },
  {
   "cell_type": "code",
   "execution_count": 120,
   "id": "90cae0a2-c9aa-4238-9605-a6827ffcfa17",
   "metadata": {
    "tags": []
   },
   "outputs": [],
   "source": [
    "from sagemaker.predictor import Predictor\n",
    "\n",
    "predictor = Predictor(endpoint_name=endpoint_name)"
   ]
  },
  {
   "cell_type": "code",
   "execution_count": 121,
   "id": "11e80e75-ab09-4e80-af6b-ade5e28ce1db",
   "metadata": {
    "tags": []
   },
   "outputs": [],
   "source": [
    "# song_ids = ['0l6zBPLCxPmV4M4Wg6Ospl', '1mrgfC8PEW7N4KY7hbN0Tb', '26Vcf2qFrnaa0pFJkGFh61']\n",
    "# recommended_song_ids = predictor.predict(song_ids)"
   ]
  },
  {
   "cell_type": "code",
   "execution_count": 122,
   "id": "ff33f091-cb9a-40fc-a4f6-31eab42520a8",
   "metadata": {
    "tags": []
   },
   "outputs": [],
   "source": [
    "import requests\n",
    "import json\n",
    "\n",
    "song_ids = ['0NZjt6ZlCVIZarakXF2WkQ', '0dHM31MLd2F5jzNPDMHOpN', '0fNY6p1S1PCwpnK9hlP4qz']\n",
    "response = predictor.predict(json.dumps(song_ids), initial_args={\"ContentType\": \"text/csv\"}).decode(\"utf-8\")\n",
    "# response = requests.post(predictor.endpoint, data=json.dumps(song_ids))\n",
    "recommended_song_ids = json.loads(response)"
   ]
  },
  {
   "cell_type": "code",
   "execution_count": 123,
   "id": "424e9df4-340f-40e8-aa87-b3f77b6b5afb",
   "metadata": {},
   "outputs": [
    {
     "name": "stdout",
     "output_type": "stream",
     "text": [
      "['0a7BloCiNzLDD9qSQHh5m7', '3zwMVvkBe2qIKDObWgXw4N', '0qfZ778fbXXCtyEzyIET5K']\n",
      "<class 'list'>\n"
     ]
    }
   ],
   "source": [
    "print(recommended_song_ids)\n",
    "print(type(recommended_song_ids))"
   ]
  },
  {
   "cell_type": "code",
   "execution_count": null,
   "id": "c5f0f9c8-0a23-496a-b38a-447ea41eed3d",
   "metadata": {},
   "outputs": [],
   "source": []
  }
 ],
 "metadata": {
  "availableInstances": [
   {
    "_defaultOrder": 0,
    "_isFastLaunch": true,
    "category": "General purpose",
    "gpuNum": 0,
    "hideHardwareSpecs": false,
    "memoryGiB": 4,
    "name": "ml.t3.medium",
    "vcpuNum": 2
   },
   {
    "_defaultOrder": 1,
    "_isFastLaunch": false,
    "category": "General purpose",
    "gpuNum": 0,
    "hideHardwareSpecs": false,
    "memoryGiB": 8,
    "name": "ml.t3.large",
    "vcpuNum": 2
   },
   {
    "_defaultOrder": 2,
    "_isFastLaunch": false,
    "category": "General purpose",
    "gpuNum": 0,
    "hideHardwareSpecs": false,
    "memoryGiB": 16,
    "name": "ml.t3.xlarge",
    "vcpuNum": 4
   },
   {
    "_defaultOrder": 3,
    "_isFastLaunch": false,
    "category": "General purpose",
    "gpuNum": 0,
    "hideHardwareSpecs": false,
    "memoryGiB": 32,
    "name": "ml.t3.2xlarge",
    "vcpuNum": 8
   },
   {
    "_defaultOrder": 4,
    "_isFastLaunch": true,
    "category": "General purpose",
    "gpuNum": 0,
    "hideHardwareSpecs": false,
    "memoryGiB": 8,
    "name": "ml.m5.large",
    "vcpuNum": 2
   },
   {
    "_defaultOrder": 5,
    "_isFastLaunch": false,
    "category": "General purpose",
    "gpuNum": 0,
    "hideHardwareSpecs": false,
    "memoryGiB": 16,
    "name": "ml.m5.xlarge",
    "vcpuNum": 4
   },
   {
    "_defaultOrder": 6,
    "_isFastLaunch": false,
    "category": "General purpose",
    "gpuNum": 0,
    "hideHardwareSpecs": false,
    "memoryGiB": 32,
    "name": "ml.m5.2xlarge",
    "vcpuNum": 8
   },
   {
    "_defaultOrder": 7,
    "_isFastLaunch": false,
    "category": "General purpose",
    "gpuNum": 0,
    "hideHardwareSpecs": false,
    "memoryGiB": 64,
    "name": "ml.m5.4xlarge",
    "vcpuNum": 16
   },
   {
    "_defaultOrder": 8,
    "_isFastLaunch": false,
    "category": "General purpose",
    "gpuNum": 0,
    "hideHardwareSpecs": false,
    "memoryGiB": 128,
    "name": "ml.m5.8xlarge",
    "vcpuNum": 32
   },
   {
    "_defaultOrder": 9,
    "_isFastLaunch": false,
    "category": "General purpose",
    "gpuNum": 0,
    "hideHardwareSpecs": false,
    "memoryGiB": 192,
    "name": "ml.m5.12xlarge",
    "vcpuNum": 48
   },
   {
    "_defaultOrder": 10,
    "_isFastLaunch": false,
    "category": "General purpose",
    "gpuNum": 0,
    "hideHardwareSpecs": false,
    "memoryGiB": 256,
    "name": "ml.m5.16xlarge",
    "vcpuNum": 64
   },
   {
    "_defaultOrder": 11,
    "_isFastLaunch": false,
    "category": "General purpose",
    "gpuNum": 0,
    "hideHardwareSpecs": false,
    "memoryGiB": 384,
    "name": "ml.m5.24xlarge",
    "vcpuNum": 96
   },
   {
    "_defaultOrder": 12,
    "_isFastLaunch": false,
    "category": "General purpose",
    "gpuNum": 0,
    "hideHardwareSpecs": false,
    "memoryGiB": 8,
    "name": "ml.m5d.large",
    "vcpuNum": 2
   },
   {
    "_defaultOrder": 13,
    "_isFastLaunch": false,
    "category": "General purpose",
    "gpuNum": 0,
    "hideHardwareSpecs": false,
    "memoryGiB": 16,
    "name": "ml.m5d.xlarge",
    "vcpuNum": 4
   },
   {
    "_defaultOrder": 14,
    "_isFastLaunch": false,
    "category": "General purpose",
    "gpuNum": 0,
    "hideHardwareSpecs": false,
    "memoryGiB": 32,
    "name": "ml.m5d.2xlarge",
    "vcpuNum": 8
   },
   {
    "_defaultOrder": 15,
    "_isFastLaunch": false,
    "category": "General purpose",
    "gpuNum": 0,
    "hideHardwareSpecs": false,
    "memoryGiB": 64,
    "name": "ml.m5d.4xlarge",
    "vcpuNum": 16
   },
   {
    "_defaultOrder": 16,
    "_isFastLaunch": false,
    "category": "General purpose",
    "gpuNum": 0,
    "hideHardwareSpecs": false,
    "memoryGiB": 128,
    "name": "ml.m5d.8xlarge",
    "vcpuNum": 32
   },
   {
    "_defaultOrder": 17,
    "_isFastLaunch": false,
    "category": "General purpose",
    "gpuNum": 0,
    "hideHardwareSpecs": false,
    "memoryGiB": 192,
    "name": "ml.m5d.12xlarge",
    "vcpuNum": 48
   },
   {
    "_defaultOrder": 18,
    "_isFastLaunch": false,
    "category": "General purpose",
    "gpuNum": 0,
    "hideHardwareSpecs": false,
    "memoryGiB": 256,
    "name": "ml.m5d.16xlarge",
    "vcpuNum": 64
   },
   {
    "_defaultOrder": 19,
    "_isFastLaunch": false,
    "category": "General purpose",
    "gpuNum": 0,
    "hideHardwareSpecs": false,
    "memoryGiB": 384,
    "name": "ml.m5d.24xlarge",
    "vcpuNum": 96
   },
   {
    "_defaultOrder": 20,
    "_isFastLaunch": false,
    "category": "General purpose",
    "gpuNum": 0,
    "hideHardwareSpecs": true,
    "memoryGiB": 0,
    "name": "ml.geospatial.interactive",
    "supportedImageNames": [
     "sagemaker-geospatial-v1-0"
    ],
    "vcpuNum": 0
   },
   {
    "_defaultOrder": 21,
    "_isFastLaunch": true,
    "category": "Compute optimized",
    "gpuNum": 0,
    "hideHardwareSpecs": false,
    "memoryGiB": 4,
    "name": "ml.c5.large",
    "vcpuNum": 2
   },
   {
    "_defaultOrder": 22,
    "_isFastLaunch": false,
    "category": "Compute optimized",
    "gpuNum": 0,
    "hideHardwareSpecs": false,
    "memoryGiB": 8,
    "name": "ml.c5.xlarge",
    "vcpuNum": 4
   },
   {
    "_defaultOrder": 23,
    "_isFastLaunch": false,
    "category": "Compute optimized",
    "gpuNum": 0,
    "hideHardwareSpecs": false,
    "memoryGiB": 16,
    "name": "ml.c5.2xlarge",
    "vcpuNum": 8
   },
   {
    "_defaultOrder": 24,
    "_isFastLaunch": false,
    "category": "Compute optimized",
    "gpuNum": 0,
    "hideHardwareSpecs": false,
    "memoryGiB": 32,
    "name": "ml.c5.4xlarge",
    "vcpuNum": 16
   },
   {
    "_defaultOrder": 25,
    "_isFastLaunch": false,
    "category": "Compute optimized",
    "gpuNum": 0,
    "hideHardwareSpecs": false,
    "memoryGiB": 72,
    "name": "ml.c5.9xlarge",
    "vcpuNum": 36
   },
   {
    "_defaultOrder": 26,
    "_isFastLaunch": false,
    "category": "Compute optimized",
    "gpuNum": 0,
    "hideHardwareSpecs": false,
    "memoryGiB": 96,
    "name": "ml.c5.12xlarge",
    "vcpuNum": 48
   },
   {
    "_defaultOrder": 27,
    "_isFastLaunch": false,
    "category": "Compute optimized",
    "gpuNum": 0,
    "hideHardwareSpecs": false,
    "memoryGiB": 144,
    "name": "ml.c5.18xlarge",
    "vcpuNum": 72
   },
   {
    "_defaultOrder": 28,
    "_isFastLaunch": false,
    "category": "Compute optimized",
    "gpuNum": 0,
    "hideHardwareSpecs": false,
    "memoryGiB": 192,
    "name": "ml.c5.24xlarge",
    "vcpuNum": 96
   },
   {
    "_defaultOrder": 29,
    "_isFastLaunch": true,
    "category": "Accelerated computing",
    "gpuNum": 1,
    "hideHardwareSpecs": false,
    "memoryGiB": 16,
    "name": "ml.g4dn.xlarge",
    "vcpuNum": 4
   },
   {
    "_defaultOrder": 30,
    "_isFastLaunch": false,
    "category": "Accelerated computing",
    "gpuNum": 1,
    "hideHardwareSpecs": false,
    "memoryGiB": 32,
    "name": "ml.g4dn.2xlarge",
    "vcpuNum": 8
   },
   {
    "_defaultOrder": 31,
    "_isFastLaunch": false,
    "category": "Accelerated computing",
    "gpuNum": 1,
    "hideHardwareSpecs": false,
    "memoryGiB": 64,
    "name": "ml.g4dn.4xlarge",
    "vcpuNum": 16
   },
   {
    "_defaultOrder": 32,
    "_isFastLaunch": false,
    "category": "Accelerated computing",
    "gpuNum": 1,
    "hideHardwareSpecs": false,
    "memoryGiB": 128,
    "name": "ml.g4dn.8xlarge",
    "vcpuNum": 32
   },
   {
    "_defaultOrder": 33,
    "_isFastLaunch": false,
    "category": "Accelerated computing",
    "gpuNum": 4,
    "hideHardwareSpecs": false,
    "memoryGiB": 192,
    "name": "ml.g4dn.12xlarge",
    "vcpuNum": 48
   },
   {
    "_defaultOrder": 34,
    "_isFastLaunch": false,
    "category": "Accelerated computing",
    "gpuNum": 1,
    "hideHardwareSpecs": false,
    "memoryGiB": 256,
    "name": "ml.g4dn.16xlarge",
    "vcpuNum": 64
   },
   {
    "_defaultOrder": 35,
    "_isFastLaunch": false,
    "category": "Accelerated computing",
    "gpuNum": 1,
    "hideHardwareSpecs": false,
    "memoryGiB": 61,
    "name": "ml.p3.2xlarge",
    "vcpuNum": 8
   },
   {
    "_defaultOrder": 36,
    "_isFastLaunch": false,
    "category": "Accelerated computing",
    "gpuNum": 4,
    "hideHardwareSpecs": false,
    "memoryGiB": 244,
    "name": "ml.p3.8xlarge",
    "vcpuNum": 32
   },
   {
    "_defaultOrder": 37,
    "_isFastLaunch": false,
    "category": "Accelerated computing",
    "gpuNum": 8,
    "hideHardwareSpecs": false,
    "memoryGiB": 488,
    "name": "ml.p3.16xlarge",
    "vcpuNum": 64
   },
   {
    "_defaultOrder": 38,
    "_isFastLaunch": false,
    "category": "Accelerated computing",
    "gpuNum": 8,
    "hideHardwareSpecs": false,
    "memoryGiB": 768,
    "name": "ml.p3dn.24xlarge",
    "vcpuNum": 96
   },
   {
    "_defaultOrder": 39,
    "_isFastLaunch": false,
    "category": "Memory Optimized",
    "gpuNum": 0,
    "hideHardwareSpecs": false,
    "memoryGiB": 16,
    "name": "ml.r5.large",
    "vcpuNum": 2
   },
   {
    "_defaultOrder": 40,
    "_isFastLaunch": false,
    "category": "Memory Optimized",
    "gpuNum": 0,
    "hideHardwareSpecs": false,
    "memoryGiB": 32,
    "name": "ml.r5.xlarge",
    "vcpuNum": 4
   },
   {
    "_defaultOrder": 41,
    "_isFastLaunch": false,
    "category": "Memory Optimized",
    "gpuNum": 0,
    "hideHardwareSpecs": false,
    "memoryGiB": 64,
    "name": "ml.r5.2xlarge",
    "vcpuNum": 8
   },
   {
    "_defaultOrder": 42,
    "_isFastLaunch": false,
    "category": "Memory Optimized",
    "gpuNum": 0,
    "hideHardwareSpecs": false,
    "memoryGiB": 128,
    "name": "ml.r5.4xlarge",
    "vcpuNum": 16
   },
   {
    "_defaultOrder": 43,
    "_isFastLaunch": false,
    "category": "Memory Optimized",
    "gpuNum": 0,
    "hideHardwareSpecs": false,
    "memoryGiB": 256,
    "name": "ml.r5.8xlarge",
    "vcpuNum": 32
   },
   {
    "_defaultOrder": 44,
    "_isFastLaunch": false,
    "category": "Memory Optimized",
    "gpuNum": 0,
    "hideHardwareSpecs": false,
    "memoryGiB": 384,
    "name": "ml.r5.12xlarge",
    "vcpuNum": 48
   },
   {
    "_defaultOrder": 45,
    "_isFastLaunch": false,
    "category": "Memory Optimized",
    "gpuNum": 0,
    "hideHardwareSpecs": false,
    "memoryGiB": 512,
    "name": "ml.r5.16xlarge",
    "vcpuNum": 64
   },
   {
    "_defaultOrder": 46,
    "_isFastLaunch": false,
    "category": "Memory Optimized",
    "gpuNum": 0,
    "hideHardwareSpecs": false,
    "memoryGiB": 768,
    "name": "ml.r5.24xlarge",
    "vcpuNum": 96
   },
   {
    "_defaultOrder": 47,
    "_isFastLaunch": false,
    "category": "Accelerated computing",
    "gpuNum": 1,
    "hideHardwareSpecs": false,
    "memoryGiB": 16,
    "name": "ml.g5.xlarge",
    "vcpuNum": 4
   },
   {
    "_defaultOrder": 48,
    "_isFastLaunch": false,
    "category": "Accelerated computing",
    "gpuNum": 1,
    "hideHardwareSpecs": false,
    "memoryGiB": 32,
    "name": "ml.g5.2xlarge",
    "vcpuNum": 8
   },
   {
    "_defaultOrder": 49,
    "_isFastLaunch": false,
    "category": "Accelerated computing",
    "gpuNum": 1,
    "hideHardwareSpecs": false,
    "memoryGiB": 64,
    "name": "ml.g5.4xlarge",
    "vcpuNum": 16
   },
   {
    "_defaultOrder": 50,
    "_isFastLaunch": false,
    "category": "Accelerated computing",
    "gpuNum": 1,
    "hideHardwareSpecs": false,
    "memoryGiB": 128,
    "name": "ml.g5.8xlarge",
    "vcpuNum": 32
   },
   {
    "_defaultOrder": 51,
    "_isFastLaunch": false,
    "category": "Accelerated computing",
    "gpuNum": 1,
    "hideHardwareSpecs": false,
    "memoryGiB": 256,
    "name": "ml.g5.16xlarge",
    "vcpuNum": 64
   },
   {
    "_defaultOrder": 52,
    "_isFastLaunch": false,
    "category": "Accelerated computing",
    "gpuNum": 4,
    "hideHardwareSpecs": false,
    "memoryGiB": 192,
    "name": "ml.g5.12xlarge",
    "vcpuNum": 48
   },
   {
    "_defaultOrder": 53,
    "_isFastLaunch": false,
    "category": "Accelerated computing",
    "gpuNum": 4,
    "hideHardwareSpecs": false,
    "memoryGiB": 384,
    "name": "ml.g5.24xlarge",
    "vcpuNum": 96
   },
   {
    "_defaultOrder": 54,
    "_isFastLaunch": false,
    "category": "Accelerated computing",
    "gpuNum": 8,
    "hideHardwareSpecs": false,
    "memoryGiB": 768,
    "name": "ml.g5.48xlarge",
    "vcpuNum": 192
   },
   {
    "_defaultOrder": 55,
    "_isFastLaunch": false,
    "category": "Accelerated computing",
    "gpuNum": 8,
    "hideHardwareSpecs": false,
    "memoryGiB": 1152,
    "name": "ml.p4d.24xlarge",
    "vcpuNum": 96
   },
   {
    "_defaultOrder": 56,
    "_isFastLaunch": false,
    "category": "Accelerated computing",
    "gpuNum": 8,
    "hideHardwareSpecs": false,
    "memoryGiB": 1152,
    "name": "ml.p4de.24xlarge",
    "vcpuNum": 96
   }
  ],
  "instance_type": "ml.t3.medium",
  "kernelspec": {
   "display_name": "Python 3 (Data Science 3.0)",
   "language": "python",
   "name": "python3__SAGEMAKER_INTERNAL__arn:aws:sagemaker:us-east-1:081325390199:image/sagemaker-data-science-310-v1"
  },
  "language_info": {
   "codemirror_mode": {
    "name": "ipython",
    "version": 3
   },
   "file_extension": ".py",
   "mimetype": "text/x-python",
   "name": "python",
   "nbconvert_exporter": "python",
   "pygments_lexer": "ipython3",
   "version": "3.10.6"
  }
 },
 "nbformat": 4,
 "nbformat_minor": 5
}
