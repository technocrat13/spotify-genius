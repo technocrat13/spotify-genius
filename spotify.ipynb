{
 "cells": [
  {
   "cell_type": "code",
   "execution_count": 74,
   "metadata": {},
   "outputs": [],
   "source": [
    "import spotipy\n",
    "from spotipy.oauth2 import SpotifyClientCredentials\n",
    "import pandas as pd\n",
    "import numpy as np"
   ]
  },
  {
   "cell_type": "code",
   "execution_count": 75,
   "metadata": {},
   "outputs": [],
   "source": [
    "cid ='d888370f9c2a4514aade84a1b6ae976e'\n",
    "secret ='01774fdc665e4dcc8dc8c48667e46bf1'\n",
    "\n",
    "client_credentials_manager = SpotifyClientCredentials(client_id=cid, client_secret=secret)\n",
    "sp = spotipy.Spotify(client_credentials_manager = client_credentials_manager)"
   ]
  },
  {
   "cell_type": "code",
   "execution_count": 76,
   "metadata": {},
   "outputs": [],
   "source": [
    "from requests import exceptions\n",
    "import lyricsgenius as lg\n",
    "import re\n",
    "import requests\n",
    "\n",
    "token = '0GGXQLMawu2kxxYNqTGFT79I0wq8McYb8jbOz0HGOQc-sCAmu0HuYKo_C71dsRg-'\n",
    "genius = lg.Genius(token, retries=3)\n",
    "genius.verbose = True\n",
    "# Remove section headers (e.g. [Chorus]) from lyrics when searching\n",
    "genius.remove_section_headers = True\n",
    "\n",
    "# Include hits thought to be non-songs (e.g. track lists)\n",
    "genius.skip_non_songs = True\n",
    "\n",
    "# Exclude songs with these words in their title\n",
    "genius.excluded_terms = [\"(Remix)\", \"(Live)\"]"
   ]
  },
  {
   "cell_type": "code",
   "execution_count": 77,
   "metadata": {},
   "outputs": [
    {
     "name": "stdout",
     "output_type": "stream",
     "text": [
      "[{'danceability': 0.472, 'energy': 0.746, 'key': 11, 'loudness': -4.816, 'mode': 1, 'speechiness': 0.0321, 'acousticness': 0.00581, 'instrumentalness': 0.663, 'liveness': 0.0999, 'valence': 0.403, 'tempo': 97.44, 'type': 'audio_features', 'id': '7eX5SypK35V8Y9d9pS6rWy', 'uri': 'spotify:track:7eX5SypK35V8Y9d9pS6rWy', 'track_href': 'https://api.spotify.com/v1/tracks/7eX5SypK35V8Y9d9pS6rWy', 'analysis_url': 'https://api.spotify.com/v1/audio-analysis/7eX5SypK35V8Y9d9pS6rWy', 'duration_ms': 162040, 'time_signature': 4}, {'danceability': 0.63, 'energy': 0.908, 'key': 11, 'loudness': -2.42, 'mode': 1, 'speechiness': 0.0326, 'acousticness': 0.0238, 'instrumentalness': 0.592, 'liveness': 0.116, 'valence': 0.968, 'tempo': 120.522, 'type': 'audio_features', 'id': '4fPBB44eDH71YohayI4eKV', 'uri': 'spotify:track:4fPBB44eDH71YohayI4eKV', 'track_href': 'https://api.spotify.com/v1/tracks/4fPBB44eDH71YohayI4eKV', 'analysis_url': 'https://api.spotify.com/v1/audio-analysis/4fPBB44eDH71YohayI4eKV', 'duration_ms': 189227, 'time_signature': 4}]\n"
     ]
    }
   ],
   "source": [
    "l = ['7eX5SypK35V8Y9d9pS6rWy',\n",
    "        '4fPBB44eDH71YohayI4eKV',\n",
    "        #'2M7UdnD0fEaryh8TnCvqFX',\n",
    "        #'6LqZFfv4fUP7va14Y6VW9a',\n",
    "]\n",
    "\n",
    "print(sp.audio_features(tracks=l))"
   ]
  },
  {
   "cell_type": "code",
   "execution_count": 78,
   "metadata": {},
   "outputs": [],
   "source": [
    "embed_remover = re.compile(r'\\D*')\n",
    "\n",
    "def remove_song_anatomy_tags(l):\n",
    "    l = l.split('\\n')\n",
    "    l = l[1::]\n",
    "    edited = []\n",
    "\n",
    "    last_line = l[-1]\n",
    "    last_line = last_line.split(' ')\n",
    "    last_line[-1] = re.findall(embed_remover, last_line[-1])[0]\n",
    "    l[-1] = ' '.join(last_line)\n",
    "\n",
    "    for i in l:\n",
    "        if i == '':\n",
    "            continue\n",
    "\n",
    "        if i == ' ':\n",
    "            continue\n",
    "\n",
    "        edited.append(i)\n",
    "\n",
    "    return ' '.join(edited)\n",
    "\n",
    "\n",
    "def get_song_lyrics_and_features(track_id, track_name, artist_name, popularity, explicit):\n",
    "    feature_list = []\n",
    "    track_features = sp.audio_features(tracks = [track_id])[0]\n",
    "\n",
    "    feature_names = ['danceability', 'energy', 'key', 'loudness', 'mode', 'speechiness', 'acousticness', 'instrumentalness', 'liveness', 'valence', 'tempo', 'time_signature', 'duration_ms']\n",
    "\n",
    "    for feature in feature_names:\n",
    "        feature_list.append(track_features[feature])\n",
    "        \n",
    "    feature_list.append(popularity)\n",
    "    feature_list.append(explicit)\n",
    "    print(feature_list)\n",
    "\n",
    "    \n",
    "    max_tries = 4\n",
    "\n",
    "    for i in range(max_tries):\n",
    "\n",
    "        try:\n",
    "            song = genius.search_song(track_name, artist_name)\n",
    "            break\n",
    "        except requests.exceptions.Timeout:\n",
    "            print(f'{track_name} pooped itself: {i} tries')\n",
    "            if i == max_tries - 1:\n",
    "                song = 'blank'\n",
    "                raise\n",
    "\n",
    "    # print(song.lyrics)\n",
    "    print(remove_song_anatomy_tags(song.lyrics))\n",
    "\n",
    "\n",
    "\n",
    "# objs = list(bucket.objects.filter(Prefix=track_id))\n",
    "#     if len(objs) > 0 and objs[0].key == track_id:\n",
    "#         print(f\"{track_name} is already in the S3 bucket.\")\n",
    "#         continue"
   ]
  },
  {
   "cell_type": "code",
   "execution_count": 79,
   "metadata": {},
   "outputs": [
    {
     "name": "stdout",
     "output_type": "stream",
     "text": [
      "Don't Let the Green Grass Fool You Wilson Pickett\n",
      "[0.573, 0.707, 6, -8.29, 0, 0.0632, 0.442, 0.000241, 0.123, 0.961, 152.467, 4, 169707, 51, 0]\n",
      "Searching for \"Don't Let the Green Grass Fool You\" by Wilson Pickett...\n",
      "Done.\n",
      "Girl, try to remember When we didn't have no shoes We stuck together, just me and you It took a long time to get what we got today Now you wanna give it all up for another guy Baby, I'm tellin' you Don't let the green grass fool ya Don't let it change your mind It's gonna be hard for me, baby To build my life all over Because baby, you got the love That I really need, really 'Cause if you leave Leave me this way, baby You know what? I may not live to see a brand new day Oh baby, don't let the green grass fool ya Don't let it change your mind You know why? It may be greener on the other side, baby But right in my arms is where you belong You might also like Mmm, ooh baby, oh, oh, ah Don't let the green grass fool ya Don't let it change your mind, oh baby It may be greener on the other side, baby But ah, right in my arms is where you belong, baby I got, gotta feel it Don't let the green grass fool ya, baby (Don't let it change your mind) Ah, hey (Greener on the other side) Don't, don't let it fool ya Baby, in my arms is where you belong, yeah\n",
      "79krwDoFzJ6dbNRwceAwgH\n",
      "Pictures of You PREP\n",
      "[0.919, 0.519, 2, -6.407, 1, 0.0537, 0.139, 2.67e-05, 0.166, 0.555, 115.992, 4, 235631, 0, 0]\n",
      "Searching for \"Pictures of You\" by PREP...\n",
      "Done.\n",
      "I don't know how your head works I think I might have made it worse Trying to talk last night When everyone was tired and over the line Gets harder in the daylight Trying to get the words out right It's like my mind don't know which way my body's going Maybe it's a little late to call now Sun bleached sky outside (I wanna tell it to you) Thoughts I can't define (Just wanna tell it to you) So fixated I've been taking myself for a ride Every time it comes back to you (Ah, ah, ah) All these pictures of you (Ah, ah, ah) Looking at me looking at you (Ah, ah, ah) Keep losing my mind at the end of the night But it always comes back to you Thought we were making progress I've only got a few weeks left Till this whole things over And we can just get back to the way that we were Hands across the table Lying with a bellyful While some talk show's blurring every thought we're turning Maybe it's a little late to call now You might also like Sun bleached sky outside (I wanna tell it to you) Thoughts I can't define (Just wanna tell it to you) So fixated I've been taking myself for a ride Every time it comes back to you (Ah, ah, ah) All these pictures of you (Ah, ah, ah) Looking at me looking at you (Ah, ah, ah) Keep losing my mind at the end of the night Every time it comes back to you (Ah, ah, ah) All these pictures of you (Ah, ah, ah) Looking at me looking at you (Ah, ah, ah) Keep losing my mind at the end of the night But it always comes back to you\n",
      "0fNY6p1S1PCwpnK9hlP4qz\n",
      "I Can't Answer That PREP\n",
      "[0.761, 0.457, 10, -7.232, 1, 0.0479, 0.0502, 0.000109, 0.106, 0.866, 153.008, 4, 246707, 31, 0]\n",
      "Searching for \"I Can't Answer That\" by PREP...\n",
      "Done.\n",
      "Little shoes pushing up through the vine I missed what you say, must've slipped out of time Staring off to space Something’s playing on your mind That where you think we headed now Look you can't hide Let's take the car, get up above the town Talk while we sit Watch the sun shift down the prune ground All those people down there They don’t know who we are But when you dropped that question, nothing hits so hard 'Cause that's not what you're really asking I can feel that No, that's not what you're really asking How am I meant react When did the days get so long When did we lose the night 'Cause that's not what you’re really asking I don’t know, I can't answer that You might also like Getting home, pick any road you like I’ve been there before I should've warned you to take your time Waking up in LA, it gets under your skin But I can't find the quiet once those thoughts begin 'Cause that’s not what you're really asking I can feel that No, that's not what you're really asking How am I meant react When did the days get so long When did we lose the night 'Cause that's not what you're really asking I don't know, I can't answer that 'Cause that's not what you're really asking I can feel that No, that's not what you're really asking How am I meant react When did the days get so long When did we lose the night 'Cause that's not what you're really asking I don't know 'Cause that's not what you really asking I can feel that No, that's not what you really asking How am I  react When better days get so long When do we lose the night 'Cause that's not what you really asking I don't know, I can't answer thatEmbed\n",
      "3UkWgTbTdxYlGchZQEVu1A\n",
      "The Steps HAIM\n",
      "[0.703, 0.714, 2, -4.967, 1, 0.0316, 0.0197, 1.65e-06, 0.0849, 0.62, 116.723, 4, 247600, 53, 0]\n",
      "Searching for \"The Steps\" by HAIM...\n",
      "Done.\n",
      "So baby When I'm near you You can't feel me I'm lightnin' You used to come by And sit down by my side You would come in close And take off all my clothes Every time I think that I've been takin' the steps You end up mad at me for makin' a mess I can't understand Why you don't understand me, baby And every day I wake up and I make money for myself And though we share a bed, you know that I don't need your help Do you understand? You don't understand me, baby All the ivy Is growing sideways You won't stop it 'Til it covers all of our place You might also like Every time I think that I've been takin' the steps You end up mad at me for makin' a mess I can't understand Why you don't understand me, baby And every day I wake up and I make money for myself And though we share a bed, you know that I don't need your help Do you understand? You don't understand me, baby If I go right and you go left Hey, I know we'll meet up again And if you go left and I go right Hey, maybe that's just life sometimes Every time I think that I've been takin' the steps You end up mad at me for makin' a mess I can't understand Why you don't understand me, baby And every day I wake up and I make money for myself And though we share a bed, you know that I don't need your help Do you understand? You don't understand me, baby\n",
      "7pD8e7UxjqflEpMKfbEqKg\n",
      "Summer Girl - Bonus Track HAIM\n",
      "[0.514, 0.545, 1, -7.96, 0, 0.224, 0.35, 0.0149, 0.162, 0.611, 100.027, 4, 205027, 57, 0]\n",
      "Searching for \"Summer Girl - Bonus Track\" by HAIM...\n",
      "Done.\n",
      "1. Nuclear Seasons (mv: ↗) 2. You (Ha Ha Ha) (mv: ↗) 3. Take My Hand 4. Stay Away 5. Set Me Free (Feel My Pain) 6. Grins 7. So Far Away 8. Cloud Aura (feat. Brooke Candy)  9. What I Like (mv: ↗) 10. Black Roses 11. You’re the One (mv: ↗) 12. How Can I 13. Lock You Up SUCKER (December 15, 2014) ↗ 1. Sucker 2. Break the Rules (mv: ↗) 3. London Queen 4. Breaking Up (mv: ↗) 5. Gold Coins 6. Boom Clap (mv: ↗) 7. Doing It (feat. Rita Ora)  8. Body of My Own 9. Famous (mv: ↗) 10. Hanging Around 11. Die Tonight 12. Caught In the Middle 13. Need Ur Luv SUCKER Reissue (February 20, 2015) ↗ 14. Need Ur Love 15. Red Balloon 16. Break the Rules (Japanese Version) — Japanese edition bonus. 17. Boom Clap (Japanese Version) — Japanese edition bonus. Charli (September 19, 2019) ↗ 1. Next Level Charli 2. Gone (with Christine and the Diamonds)  3. Cross You Out (feat. Sky Ferreira) 4. 1999 (with Troye Sivan)  5. Click (feat. Kim Petras & Tommy Cash) 6. Warm (feat. HAIM) 7. Thoughts 8. Blame It On Your Love (feat. Lizzo)  9. White Mercedes (mv: ↗) 10. Silver Cross 11. I Don’t Wanna Know 12. Official 13. Shake It (feat. Big Freedia, Brooke Candy, cupcakKe & Pabllo Vitar) 14. February 2017 (feat. Clairo & Yaeji) 15. 2099 (feat. Troye Sivan)  16. Gone (Clarence Clarity Remix) — Japanese edition bonus. 17. Blame It On Your Love (Kat Krazy Remix) — Japanese bonus. 18. 1999 (Alphalove Remix) — Japanese edition bonus. how i’m feeling now (May 15, 2020) ↗ 1. pink diamond 2. forever (mv: ↗) 3. claws (mv: ↗) 4. 7 years 5. detonate 6. enemy (mv: ↗) 7. i finally understand 8. c2.0 9. party 4 u 10. anthems 11. visions CRASH (March 18, 2022) ↗ 1. Crash 2. New Shapes (feat. Caroline Polachek & Christine and the Queens)  3. Good Ones (mv: ↗) 4. Constant Repeat 5. Beg For You (feat. Rina Sawayama)  6. Move Me 7. Baby  8. Lightning 9. Every Rule 10. Yuck 11. Used To Know Me 12. Twice 13. Selfish Girl — Deluxe bonus track. 14. How Can I Not Know What I Need Right Now — Deluxe bonus. 15. Sorry if I Hurt You — Deluxe bonus track. 16. What You Think About Me — Deluxe bonus track.Mixtapes & EPs14 Mixtape (2008) ↗ 1. !Franchesckaar! 2. Lucy 3. Chas’s Song 4. Leave Me 5. I’ll Teach You A Lesson 6. Machines 7. Supermodels and Holiday Stunners 8. Watch the Rain 9. Live Life 10. Neon Fashion and Glowstix 11. Mauritius 12. Alcohol 13. Yet Again 14. 14 Heartbreaks and Earthquakes Mixtape (June 12, 2012) ↗ 1. Champagne Coast 2. How Can I 3. Grins 4. So Far Away 5. Dreams Money Can Buy 6. Lock You Up 7. Spoons 8. You’re the One (Odd Future’s the Internet Remix) You’re the One EP (June 12, 2012) ↗ 1. You’re the One (mv: ↗) 2. Stay Away 3. Nuclear Seasons 4. Nuclear Seasons (Balam Acab Remix) 5. You’re the One (Blood Orange Remix) 6. You’re the One (Odd Future’s the Internet Remix) Super Ultra EP (November 7, 2012) ↗ 1. Cloud Aura (feat. Brooke Candy)  2. Moments In Love 3. Velvet Dreaming (Luv) 4. Dance 4 U 5. Glow 6. Heatwave 7. Cold Nites (Remix) 8. Forgiveness Vroom Vroom EP (February 26, 2016) ↗ 1. Vroom Vroom (mv: ↗) 2. Paradise (feat. Hannah Diamond) 3. Trophy 4. Secret (Shh) Number 1 Angel Mixtape (March 10, 2017) ↗ 1. Dreamer (feat. RAYE & Starrah) 2. 3AM (Pull Up) (feat. MØ) 3. Blame It On U 4. Roll with Me 5. Emotional 6. ILY2 7. White Roses 8. Babygirl (feat. Uffie) 9. Drugs (feat. ABRA) 10. Lipgloss (feat. cupcakKe) Pop 2 Mixtape (December 15, 2017) ↗ 1. Backseat (feat. Carly Rae Jepsen) 2. Out of My Head (feat. ALMA & Tove Lo) 3. Lucky 4. Tears 5. I Got It (feat. Brooke Candy, cupcakKe & Pabllo Vitar) 6. Femmebot (feat. Dorian Electra & Mykki Blanco) 7. Delicious (feat. Tommy Cash) 8. Unlock It (feat. Jay Park & Kim Petras) 9. Porsche (feat. MØ) 10. Track 10Non Album/Promotional Singles2013 SuperLove (mv: ↗) 2016 After the Afterparty (feat. Lil Yachty)  Explode (from The Angry Birds Movie soundtrack) 2017 Boys (mv: ↗) 2018 5 in the Morning (mv: ↗) Focus Girls Night Out No Angel 2019 Click (No Boys Remix) (feat. Kim Petras & Slayyyter) Miss U (from 13 Reasons Why soundtrack) 2020 We Are Born To Play (Galantis) As Featured Artist2011 Lost in Space (Starkey, Space Traitor Vol. 2) Your Eyes (Ocelot, No Requests) 2012 I Love It (Icona Pop, Icona Pop) 2013 Float On (Danny Brown, Old) Illusions Of (J£ZUS MILLION, Double Denim Vol. 1) Just Desserts (Marina And The Diamonds) Smile (Benga, Chapter II) 2014 Fancy (Iggy Azalea, The New Classic) Kingdom (with Simon Le Bon, The Hunger Games: Mockingjay) 2015 Diamonds (Giorgio Moroder, Déjà vu) Drop That Kitty (Ty Dolla $ign, Tinashe) Hand in the Fire (Mr. Oizo, All Wet) Oz vs Eden (Lawrence Rothman) Rollercoaster (Bleachers, Terrible Thrills, Vol. 2) 2016 Banshee (Santigold, 99¢) For U (Miike Snow, iii) 2017 1 Night (Mura Masa, Mura Masa) Crazy Crazy (Yasutaka Nakata, Kyary Pamyu Pamyu) Deadstream (Rostam Version) (Jim-E Stack, It’s Jim-ee) Dirty Sexy Money (David Guetta & Afrojack, French Montana) I’m a Dream (BC Unidos, Bicycle) love gang (Whethan) 2018 100 Bad (Charli XCX Remix) (Tommy Genesis, Tommy Genesis) bitches (Remix) (Tove Lo, ALMA, Elliphant & Icona Pop) Don’t Delete the Kisses (Charli XCX x Post Precious Remix) (Wolf Alice) Girls (Rita Ora, Bebe Rexha, Cardi B) If It’s Over (MØ, Forever Neverland) Moonlight (Lil Xan, TOTAL XANARCHY) Playboy Style (Clean Bandit, Bhad Bhabie, What Is Love?) 2019 Bricks (with Tommy Genesis) Dream Glow (with BTS BTS WORLD) Flash Pose (with Pabllo Vittar, 111) Spicy (Herve Pagez) XXXTC (Brooke Candy, Maliibu Miitch, SEXORCISM) 2020 ringtone (remix) (100 gecs, Kero Kero Bonito, Rico Nasty, 1000 gecs and The Tree of Clues) 2021 911 (Lady Gaga, Dawn of Chromatica) CHARGER (with ELIO, ELIO & Friends: The Remixes) Drama (Remix) (Bladee & Mechatok, Good Luck) OUT OUT (Joel Corry & Jax Jones, Saweetie) Spinning (No Rome, Charli XCX & The 1975) Spinning (A. G. Cook Club Mix) (No Rome, Charli XCX & The 1975) Spinning (A. G. Cook Remix) (No Rome, Charli XCX & The 1975) Xcxoplex (A. G. Cook, Apple vs. 7G)Compilation & Live AlbumsBoiler Room: Charli XCX, How I'm Feeling Now, May 2020 (DJ Mix) Compilation (May, 2020) ↗ 1. anthems (Mixed) 2. Sandstorm (Mixed) by Darude. 3. i finally understand (Mixed) 4. Heartbroken (Mixed) by T2. 5. Concrete Angel (Mitch Schneider Remix) (Mixed) by Hannah Diamond. 6. pink diamond / ME4U (feat. Morrie)   with Danny L Harle. 7. Heaven (feat. Do) (Mixed) by DJ Sammy & Yanou. 8. claws (Mixed) 9. Set You Free (2020 Remix) (Mixed) by N-Trance. 10. detonate (Mixed) 11. ME4U (feat. Morrie)   12. I Remember (Mixed) by deadmau5 & Kaskade. 13. party 4 u (Mixed) 14. Come With Me (Rob Mayth Remix)  by Special D. 15. Calabaria 2007 (feat. Nataja)  by Enur. 16. Kernkraft 400 (Sport Chant Stadium Remix) / Immaterial (Mixed) by deadmau5 & SOPHIE. 17. visions (Mixed) 18. forever (Himera Remix)  19. forever (Acapella)  Live from Austin Live Album (July 10, 2020) ↗ 1. Next Level Charli (Live) 2. Click (Live) 3. I Don’t Wanna Know (Live) 4. Vroom Vroom (Live) 5. Gone (Live) 6. Cross You Out (Live) 7. Warm (Live) 8. February 2017 (Live) 9. Thoughts (Live) 10. White Mercedes (Live) 11. Official (Live) 12. Shake It (Live) 13. I Got It (Live) 14. Track 10 (Live) 15. Silver Cross (Live) 16. 2099 (Live) 17. Unlock It (Live) 18. I Love It (Live) 19. Boys (Live) 20. 1999 (Live)CoversAllergic to Love (Cover) (2013)Believe — Cher cover, 2017.Groove Is in the Heart (Cover) (feat. Questlove & Black Thought, 2010)Like A G6 (Remix) (2010)No Fun — Stooges cover, from the HBO series Vinyl.On Fire (Carmada cover) (2015)Shake It Off (Taylor Swift cover) — live at BBC Live Lounge, 2015.TOOTIMETOOTIMETOOTIME (The 1975 cover) — live at BBC Live Lounge, 2015.Train in Vain (Cover) (2011)Wires (Cover) (2011)Live Only TracksBurn Rubber (Remix) Don’t Delete the Kisses (Live Cover)I Want Candy (Aaron Carter cover, 2013)I Want It That Way (Backstreet Boys cover, 2013)Lipgloss (Live Remix) (feat. Brooke Candy & cupcakKe)Simply Irresistible (Cover)  — Live at E's Live From the Red Carpet.Stay with Me (Sam Smith cover, 2014)The Killing Moon (Echo & The Bunnymen cover, 2012)Wanna Be (Cover) — Live at Lollapalooza, 2017.Unreleased SongsNote: An asterisk (*) next to a song title denotes that the song remains unleaked. You can also view this here. 2008 Art Bitch Emelline I Wanna Be Darth Vader Too Cool 2009 Another Romantic Situation (Daisy Geggus) Beach Hut In Hawaii Dinosaur Sex! Do It Well Falling In Love Again Fearless I Like You Jungle Time Photography Pirates Pop Princess 2010 A Princess Song Angry All the Time Atomic Boyfriend Material (demo given to Bella Thorne ↗) Candyfloss Dynamite Get Dirty (Demo 2) / Get Dirty (Demo 3) Gravity (demo given to Blondie ↗) Interior Jungle Machines (Rework) — for Sucker. Nothing Too Serious Supernova / Supernova (Demo) Tulips in the Fields Violins & Violence X-Ray Spex (demo given to Bella Thorne ↗) You Me and the Radio 2011 B!TCH ZO SCX (WI╪CHBØØK) Électronique End of the Night Girls Like Us (demo given to TWICE ↗) Heal My Heart Jungle (Remix) Kiss My Beauty Mess (Demo 1) / Mess (Demo 2) Rockstar Silver Bullet The Lonely Jaguar Time Off Tonight (demo given to Blondie ↗) Tough Love (Demo 1) / Tough Love (Demo 2) — Girls Like Us rough demos. We Collide What the Hell 2012 Chains Cuts Like Diamonds Duke Heart Beats Hard Heartbreak High I Don’t Know Your Name I’ll Never Know / I’ll Never Know (Demo) I’m Not Sorry Losing My Cool / Losing My Cool (Demo 1) / Loosing My Cool (Demo 2) Midnight / Midnight (Demo) Rhinestone Hearts Spoons (Alternate Mix) Strobe Light Valentine We Do This Everyday (with God’s Paparazzi) 2013 Bel Air Fāār-i-kāāl (TWIN iDoL Remix) Hate You Heart In My Pocket (demo given to Britney Spears for Pretty Girls) Hell Yeah Baby (demo given to Gwen Stefani ↗) I Wanna Be Like You I Will Follow You Japan Kick You Out Light It Up Like This Mow That Lawn Ricochet Same Old Love (demo given to Selena Gomez ↗ & Rihanna. ↗) Save You Superlove (Demo) / Superlove (Demo 2) / Superlove (Early Demo) 2014 Baby Boy (demo given to LIZ ↗) Beat You at Your Own Game Beg for It (Demo) (Iggy Azalea) Blow Me Away Boom Clap (Demo/Remix) (feat. Lizzo) Boom Clap (Japanese Version) Bottles Break the Rules (Japanese Version) Burnin’ Up (demo given to LIZ ↗) Can You Please Shut Up? Chandeliers and Champagne Chandeliers and Champagne (Demo) (feat. Noonie Bao) Coo Coo Crazy Drop That Kitty (Demo) — solo demo. Generation Braindead Get Dirty (2014 Demo) Good Things Come (So Wait) Hard 2 Love (demo given to Gwen Stefani ↗) High on Helium (demo given to Poppy ↗) High on Helium (SOPHIE Remix) Hold on Tight It Doesn’t Matter (Seven Day Holiday) Let’s Make Love Long and Lonely Road Not In Love (Version 1) (feat. Noonie Bao) Not In Love (Version 2) NYC (The Way Out) Octahate (demo given to Ryan Weaver ↗) One, Two Bamboo One, Two Bamboo (Demo) Out Of This World Physical Physical (Demo) Pop It (Like a Glock) (aka “Problematic Song”) Reflecting So Alive (demo given to Neon Jungle ↗) Special Something Special Something (Solo Version) Sweetest Drug That’s The Way We Live The Darkness Theme Park What You Do to Me 2015 100 Bel Air (SOPHIE Version) Blow Your Mind (Demo) / Blow Your Mind Boom Clap (QT Edit) Boyfriend Can’t Shake It / Can’t Shake It (Demo) Cool Enough (Version 1) / Cool Enough (Version 2) Crossfire Fill in the Blank Heartbeat Higher Hurts Like Hell (demo given to Madison Beer ↗) IDEA3 — untitled song demo. I Don’t Mind Kingdom Come / Kingdom Come (Version 2) — demo given to Rita Ora. ↗ Lay with U Miami Paris Pop the Balloons / Pop the Balloons (90’s Demo) / Pop the Balloons (Demo) — demo given to Sarah Hudson. ↗ Round & Round / Round & Round (Demo) Sticky Stuck on Repeat Summer Love (feat. Noonie Bao) / Summer Love (Version 2) / Summer Love (Version 3) Swords (demo given to Julia Michaels ↗) Telephone This Is the Moment / This Is the Moment (Demo) T.K.O. Trigger — Heartbeat concept demo. Up Up and Away Victimless Crime (demo given to Kesha ↗) Wassup We Don’t Need a Reason Why You Looking At Me / Why You Looking At Me (Demo) / Why You Looking At Me (SOPHIE Version) World’s Best Dancer 2016 Boys & Girls (Demo) (with will.i.am) Dance Goes On (feat. Koshens) Daddy Knows Dream Glow (Demo 1) / Dream Glow (Demo 2) — later released w/ BTS. ↗ Ebola (What You Need) Gemini Hey Boy Hey Girl / Hey Boy Hey Girl (Demo) — with will.i.am. Issues (demo given to Julia Michaels ↗) It’s My Party Lock It Up Love Me Offline Painkiller Rope Rrring Run Up / Run Up (Demo)  Tokyo Drift (with Feadz) Too Many Omens Up N’ Down Vroom Vroom (Live Mini-mix)* Want to Feel We Won’t Back Down What A Way to Go Out When U Go Wow Yeah XCX/XCX WORLD (2016) ↗ *Scrapped album 1. Come to My Party 2. Girls Night Out (Demo) (feat. TYNI) 3. Good Girls 4. Bounce (feat. Kyary Pamyu Pamyu) 5. No Angel (SOPHIE Version) 6. TAXI 7. Down Like Woah 8. Die 4 9. I Wanna Be With U 10. Can You Hear Me? 11. Waterfall 12. Queen Lizzy 13. After the Afterparty (SOPHIE Remix) 2017 100 2Bad (feat. TYNI) / 2Bad (Solo Version) Break Your Heart (with Marshmello) Champion / Champion (Demo 1) / Champion (Demo 2) Dirty Sexy Money (Demo) — solo version. Don’t Ever Let Me Go Fall In Fall Out Genius / Genius (Demo) Hate Myself for Loving You / Hate Myself for Loving You (Demo 2) I Got You I Try I Wanna Be With You (with David Guetta) I Wish Let U Down (feat. Lil Peep) Lightning Million Money Where Your Mouth Is My Mind Naked / Naked (Demo) Never Felt Better New Low Our Boyfriend (demo given to Little Mix ↗) Party Party POP/STARS (demo given to K/DA ↗) Pull Up to the Club (Skrt Skrt) (feat. ALMA) Rare (demo given to Selena Gomez↗) Real Love Teenage Kicks The Middle (with Zedd & Grey) Thrills Wanna Get Fucked Up? / Wanna Get Fucked Up (Demo) — with SOPHIE. Yours / Yours (demo) 24 HRS (2017) ↗ *Scrapped album. 1. 20 Steps 2. Party Party (Demo) 3. In My Arms 4. Happy Now 5. Dreams 6. 7 Days 7. Everything 8. I Don’t Wanna Know (Demo) — reworked for Charli. 9. I Got It (Demo) — reworked for Pop 2. 2018 1000 Times 100 Bad (Demo) Attention* Bad Chicks (feat. Stefflon Don) Better When You’re Gone (Cigarettes & Alcohol) Bricks (Demo) Claxxixx Dance All Night (feat. MØ) Don’t Call Me Enough (with G-Eazy) Feel It Girls (Demo) (with Rita Ora, MØ & Starrah) Ice Cold Liquor / Liquor (Demo) Mona Lisa My Heart My Type Next Life Paint the Town Playboy Style (Demo) (with Clean Bandit) Purpose / Purpose (Demo) Rain Over London / Rain Over London (Version 2) Real Friends / Real Friends (Demo) Ride (Version 1) / Ride (Version 2) Someone New (demo given to Astrid S ↗) Spliff in My Ear (with SOPHIE, Bibi Bourelly & PB Lush) Tears & Tantrums (with RAYE, demo given to XYLØ ↗) The Party’s Never Over Toys White Dress (Demo 1) / White Dress (Demo 2) Would You? 2019 Green Money (with umru) Silver Cross (A. G. Cook Edit) Time & Envy 2020 breathe out — how i’m feeling now outtake. Cold (with A. G. Cook, from Pop Carol) if i cried — how i’m feeling now outtake. i hate all this gravity — how i’m feeling now outtake. Stay Away (Halloween 2020 Version) 2021 (Just One) Touch / Just One Touch (Demo) — CRASH outtake. Sweat — CRASH outtake.Known Album SessionsTrue Romance (2012-2013) ? SUCKER (2013-2014) Body of My Own (Demo) Boom Clap (Demo 1) Boom Clap (Demo 2) Break the Rules (Demo) Breaking Up (Demo) Doing It (Demo) Famous (Demo) London Queen (Demo) So Over You (Demo 1) So Over You (Demo 2) Sucker (Demo 1) Sucker (Demo 2) Sucker (Demo 3) Vroom Vroom (2015-2016) Paradise (Demo) Secret (Demo) XCX/XCX WORLD (2015-2017) Boys (Demo) / Boys (Demo 2) After the Afterparty (Demo 1) After the Afterparty (Demo 2) After the Afterparty (Demo 3) After the Afterparty (Demo 4) Bounce (Demo) Bounce (feat. Kyary Pamyu Pamyu)  Bounce (Final Ref 2.3?) Bounce (Popcity Demo) Can You Hear Me? (Demo 1) Can You Hear Me? (Demo 2) Come to My Party (Alt. Version) Down Like Woah (Demo 1) Down Like Woah (Mix 1) Girls Night Out (Demo 2)  Good Girls (Demo) I Wanna Be With U (Demo) No Angel (Tropical Demo) Queen Lizzy (Demo) Runaway — Down Like Woah demo 2. Taxi (Demo) The One I Die 4 — Die 4 demo. Waterfall (Demo) Within — Die 4 demo. Number 1 Angel (2016-2017) Babygirl (Demo) Babygirl (Rough Demo) Babygirl (Version 2) Blame It On U (Demo) Dreamer (Demo) (feat. Bibi Bourelly) Emotional (Demo) (2014) Pop 2 (2017) Delicious (Rough Demo) (feat. Caroline Polachek) Delicious (Solo Demo) Femmebot (Demo) Out of My Head (Demo) by ALMA Porsche (Demo) Charli (2018-2019) 1999 (Demo) — solo demo. Blame It On Your Love (Demo)  Blame It On Your Love (Demo) (feat. Stefflon Don) Blame It On Your Love (Mix 3) Cross You Out (Demo) Types — Official demo. White Mercedes (Demo) how i’m feeling now (2020) forever (Demo) i finally understand (Demo)* I Like — Claws demo. Party 4 u (Demo) (2017) CRASH (2020-2022) Lavender — Used To Know Me 2020 demo. Move Me (Early Mix) Twice (Early Version 1) / Twice (Early Version 2) / Twice (Early Version 3) Used To Know Me (Early Mix) Yuck (Early Mix)Embed\n",
      "4O3ob7NxMcZLgJ8ucIahPS\n",
      "The Oogum Boogum Song Brenton Wood\n",
      "[0.885, 0.64, 7, -5.305, 1, 0.0431, 0.765, 0, 0.247, 0.851, 112.658, 4, 153413, 59, 0]\n",
      "Searching for \"The Oogum Boogum Song\" by Brenton Wood...\n"
     ]
    },
    {
     "ename": "KeyboardInterrupt",
     "evalue": "",
     "output_type": "error",
     "traceback": [
      "\u001b[1;31m---------------------------------------------------------------------------\u001b[0m",
      "\u001b[1;31mKeyboardInterrupt\u001b[0m                         Traceback (most recent call last)",
      "Cell \u001b[1;32mIn[79], line 12\u001b[0m\n\u001b[0;32m     10\u001b[0m explicit \u001b[39m=\u001b[39m \u001b[39mint\u001b[39m(track[\u001b[39m'\u001b[39m\u001b[39mexplicit\u001b[39m\u001b[39m'\u001b[39m])\n\u001b[0;32m     11\u001b[0m \u001b[39mprint\u001b[39m(track_name, artist_name)\n\u001b[1;32m---> 12\u001b[0m get_song_lyrics_and_features(track_id, track_name, artist_name, popularity, explicit)\n\u001b[0;32m     13\u001b[0m \u001b[39mprint\u001b[39m(track_id)\n",
      "Cell \u001b[1;32mIn[78], line 44\u001b[0m, in \u001b[0;36mget_song_lyrics_and_features\u001b[1;34m(track_id, track_name, artist_name, popularity, explicit)\u001b[0m\n\u001b[0;32m     41\u001b[0m \u001b[39mfor\u001b[39;00m i \u001b[39min\u001b[39;00m \u001b[39mrange\u001b[39m(max_tries):\n\u001b[0;32m     43\u001b[0m     \u001b[39mtry\u001b[39;00m:\n\u001b[1;32m---> 44\u001b[0m         song \u001b[39m=\u001b[39m genius\u001b[39m.\u001b[39;49msearch_song(track_name, artist_name)\n\u001b[0;32m     45\u001b[0m         \u001b[39mbreak\u001b[39;00m\n\u001b[0;32m     46\u001b[0m     \u001b[39mexcept\u001b[39;00m requests\u001b[39m.\u001b[39mexceptions\u001b[39m.\u001b[39mTimeout:\n",
      "File \u001b[1;32mc:\\Users\\Ayush\\.conda\\envs\\tf\\lib\\site-packages\\lyricsgenius\\genius.py:401\u001b[0m, in \u001b[0;36mGenius.search_song\u001b[1;34m(self, title, artist, song_id, get_full_info)\u001b[0m\n\u001b[0;32m    399\u001b[0m \u001b[39melse\u001b[39;00m:\n\u001b[0;32m    400\u001b[0m     search_term \u001b[39m=\u001b[39m \u001b[39m\"\u001b[39m\u001b[39m{s}\u001b[39;00m\u001b[39m \u001b[39m\u001b[39m{a}\u001b[39;00m\u001b[39m\"\u001b[39m\u001b[39m.\u001b[39mformat(s\u001b[39m=\u001b[39mtitle, a\u001b[39m=\u001b[39martist)\u001b[39m.\u001b[39mstrip()\n\u001b[1;32m--> 401\u001b[0m     search_response \u001b[39m=\u001b[39m \u001b[39mself\u001b[39;49m\u001b[39m.\u001b[39;49msearch_all(search_term)\n\u001b[0;32m    402\u001b[0m     result \u001b[39m=\u001b[39m \u001b[39mself\u001b[39m\u001b[39m.\u001b[39m_get_item_from_search_response(search_response,\n\u001b[0;32m    403\u001b[0m                                                  title,\n\u001b[0;32m    404\u001b[0m                                                  type_\u001b[39m=\u001b[39m\u001b[39m\"\u001b[39m\u001b[39msong\u001b[39m\u001b[39m\"\u001b[39m,\n\u001b[0;32m    405\u001b[0m                                                  result_type\u001b[39m=\u001b[39m\u001b[39m\"\u001b[39m\u001b[39mtitle\u001b[39m\u001b[39m\"\u001b[39m)\n\u001b[0;32m    407\u001b[0m \u001b[39m# Exit search if there were no results returned from API\u001b[39;00m\n\u001b[0;32m    408\u001b[0m \u001b[39m# Otherwise, move forward with processing the search results\u001b[39;00m\n",
      "File \u001b[1;32mc:\\Users\\Ayush\\.conda\\envs\\tf\\lib\\site-packages\\lyricsgenius\\api\\public_methods\\search.py:210\u001b[0m, in \u001b[0;36mSearchMethods.search_all\u001b[1;34m(self, search_term, per_page, page)\u001b[0m\n\u001b[0;32m    188\u001b[0m \u001b[39m\u001b[39m\u001b[39m\"\"\"Searches all types.\u001b[39;00m\n\u001b[0;32m    189\u001b[0m \n\u001b[0;32m    190\u001b[0m \u001b[39mIncluding: albums, articles, lyrics, songs, users and\u001b[39;00m\n\u001b[1;32m   (...)\u001b[0m\n\u001b[0;32m    207\u001b[0m \n\u001b[0;32m    208\u001b[0m \u001b[39m\"\"\"\u001b[39;00m\n\u001b[0;32m    209\u001b[0m endpoint \u001b[39m=\u001b[39m \u001b[39m'\u001b[39m\u001b[39mmulti\u001b[39m\u001b[39m'\u001b[39m\n\u001b[1;32m--> 210\u001b[0m \u001b[39mreturn\u001b[39;00m \u001b[39mself\u001b[39;49m\u001b[39m.\u001b[39;49msearch(search_term, per_page, page, endpoint)\n",
      "File \u001b[1;32mc:\\Users\\Ayush\\.conda\\envs\\tf\\lib\\site-packages\\lyricsgenius\\api\\public_methods\\search.py:45\u001b[0m, in \u001b[0;36mSearchMethods.search\u001b[1;34m(self, search_term, per_page, page, type_)\u001b[0m\n\u001b[0;32m     41\u001b[0m     path \u001b[39m=\u001b[39m \u001b[39m'\u001b[39m\u001b[39msearch/\u001b[39m\u001b[39m'\u001b[39m \u001b[39m+\u001b[39m type_\n\u001b[0;32m     42\u001b[0m params \u001b[39m=\u001b[39m {\u001b[39m'\u001b[39m\u001b[39mq\u001b[39m\u001b[39m'\u001b[39m: search_term,\n\u001b[0;32m     43\u001b[0m           \u001b[39m'\u001b[39m\u001b[39mper_page\u001b[39m\u001b[39m'\u001b[39m: per_page,\n\u001b[0;32m     44\u001b[0m           \u001b[39m'\u001b[39m\u001b[39mpage\u001b[39m\u001b[39m'\u001b[39m: page}\n\u001b[1;32m---> 45\u001b[0m \u001b[39mreturn\u001b[39;00m \u001b[39mself\u001b[39;49m\u001b[39m.\u001b[39;49m_make_request(path, params_\u001b[39m=\u001b[39;49mparams, public_api\u001b[39m=\u001b[39;49m\u001b[39mTrue\u001b[39;49;00m)\n",
      "File \u001b[1;32mc:\\Users\\Ayush\\.conda\\envs\\tf\\lib\\site-packages\\lyricsgenius\\api\\base.py:91\u001b[0m, in \u001b[0;36mSender._make_request\u001b[1;34m(self, path, method, params_, public_api, web, **kwargs)\u001b[0m\n\u001b[0;32m     88\u001b[0m             \u001b[39mraise\u001b[39;00m HTTPError(response\u001b[39m.\u001b[39mstatus_code, error)\n\u001b[0;32m     90\u001b[0m     \u001b[39m# Enforce rate limiting\u001b[39;00m\n\u001b[1;32m---> 91\u001b[0m     time\u001b[39m.\u001b[39;49msleep(\u001b[39mself\u001b[39;49m\u001b[39m.\u001b[39;49msleep_time)\n\u001b[0;32m     93\u001b[0m \u001b[39mif\u001b[39;00m web:\n\u001b[0;32m     94\u001b[0m     \u001b[39mreturn\u001b[39;00m response\u001b[39m.\u001b[39mtext\n",
      "\u001b[1;31mKeyboardInterrupt\u001b[0m: "
     ]
    }
   ],
   "source": [
    "playlist_id = 'https://open.spotify.com/playlist/2AXUGe93UP8oVj3F0a1Hoo?si=836ee38e473943a6'\n",
    "results = sp.playlist_tracks(playlist_id)\n",
    "# print(results)\n",
    "for item in results['items']:\n",
    "    track = item['track']\n",
    "    track_id = track['id']\n",
    "    track_name = track['name']\n",
    "    artist_name = track['artists'][0]['name']\n",
    "    popularity = track['popularity']\n",
    "    explicit = int(track['explicit'])\n",
    "    print(track_name, artist_name)\n",
    "    get_song_lyrics_and_features(track_id, track_name, artist_name, popularity, explicit)\n",
    "    print(track_id)\n"
   ]
  },
  {
   "cell_type": "code",
   "execution_count": null,
   "metadata": {},
   "outputs": [],
   "source": []
  }
 ],
 "metadata": {
  "kernelspec": {
   "display_name": "tf",
   "language": "python",
   "name": "python3"
  },
  "language_info": {
   "codemirror_mode": {
    "name": "ipython",
    "version": 3
   },
   "file_extension": ".py",
   "mimetype": "text/x-python",
   "name": "python",
   "nbconvert_exporter": "python",
   "pygments_lexer": "ipython3",
   "version": "3.9.13"
  },
  "orig_nbformat": 4
 },
 "nbformat": 4,
 "nbformat_minor": 2
}
