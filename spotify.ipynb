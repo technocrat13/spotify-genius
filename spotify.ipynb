{
 "cells": [
  {
   "cell_type": "code",
   "execution_count": 1,
   "metadata": {},
   "outputs": [],
   "source": [
    "import spotipy\n",
    "from spotipy.oauth2 import SpotifyClientCredentials\n",
    "import pandas as pd\n",
    "import numpy as np"
   ]
  },
  {
   "cell_type": "code",
   "execution_count": 2,
   "metadata": {},
   "outputs": [],
   "source": [
    "cid ='d888370f9c2a4514aade84a1b6ae976e'\n",
    "secret ='01774fdc665e4dcc8dc8c48667e46bf1'\n",
    "\n",
    "client_credentials_manager = SpotifyClientCredentials(client_id=cid, client_secret=secret)\n",
    "sp = spotipy.Spotify(client_credentials_manager = client_credentials_manager)"
   ]
  },
  {
   "cell_type": "code",
   "execution_count": 3,
   "metadata": {},
   "outputs": [],
   "source": [
    "from requests import exceptions\n",
    "import lyricsgenius as lg\n",
    "import re\n",
    "import requests\n",
    "\n",
    "token = '0GGXQLMawu2kxxYNqTGFT79I0wq8McYb8jbOz0HGOQc-sCAmu0HuYKo_C71dsRg-'\n",
    "genius = lg.Genius(token, retries=3)\n",
    "genius.verbose = True\n",
    "# Remove section headers (e.g. [Chorus]) from lyrics when searching\n",
    "genius.remove_section_headers = True\n",
    "\n",
    "# Include hits thought to be non-songs (e.g. track lists)\n",
    "genius.skip_non_songs = True\n",
    "\n",
    "# Exclude songs with these words in their title\n",
    "genius.excluded_terms = [\"(Remix)\", \"(Live)\"]"
   ]
  },
  {
   "cell_type": "code",
   "execution_count": 4,
   "metadata": {},
   "outputs": [
    {
     "name": "stdout",
     "output_type": "stream",
     "text": [
      "[{'danceability': 0.472, 'energy': 0.746, 'key': 11, 'loudness': -4.816, 'mode': 1, 'speechiness': 0.0321, 'acousticness': 0.00581, 'instrumentalness': 0.663, 'liveness': 0.0999, 'valence': 0.403, 'tempo': 97.44, 'type': 'audio_features', 'id': '7eX5SypK35V8Y9d9pS6rWy', 'uri': 'spotify:track:7eX5SypK35V8Y9d9pS6rWy', 'track_href': 'https://api.spotify.com/v1/tracks/7eX5SypK35V8Y9d9pS6rWy', 'analysis_url': 'https://api.spotify.com/v1/audio-analysis/7eX5SypK35V8Y9d9pS6rWy', 'duration_ms': 162040, 'time_signature': 4}, {'danceability': 0.63, 'energy': 0.908, 'key': 11, 'loudness': -2.42, 'mode': 1, 'speechiness': 0.0326, 'acousticness': 0.0238, 'instrumentalness': 0.592, 'liveness': 0.116, 'valence': 0.968, 'tempo': 120.522, 'type': 'audio_features', 'id': '4fPBB44eDH71YohayI4eKV', 'uri': 'spotify:track:4fPBB44eDH71YohayI4eKV', 'track_href': 'https://api.spotify.com/v1/tracks/4fPBB44eDH71YohayI4eKV', 'analysis_url': 'https://api.spotify.com/v1/audio-analysis/4fPBB44eDH71YohayI4eKV', 'duration_ms': 189227, 'time_signature': 4}]\n"
     ]
    },
    {
     "data": {
      "application/vnd.jupyter.widget-view+json": {
       "model_id": "88aed1db8edb4430882ed61c9cf3011b",
       "version_major": 2,
       "version_minor": 0
      },
      "text/plain": [
       "Downloading (…)d41f8/.gitattributes:   0%|          | 0.00/736 [00:00<?, ?B/s]"
      ]
     },
     "metadata": {},
     "output_type": "display_data"
    },
    {
     "data": {
      "application/vnd.jupyter.widget-view+json": {
       "model_id": "526b5f7819604c6faf9ceda6720a6d66",
       "version_major": 2,
       "version_minor": 0
      },
      "text/plain": [
       "Downloading (…)_Pooling/config.json:   0%|          | 0.00/190 [00:00<?, ?B/s]"
      ]
     },
     "metadata": {},
     "output_type": "display_data"
    },
    {
     "data": {
      "application/vnd.jupyter.widget-view+json": {
       "model_id": "3eeaed9cc73348eabe41e0f195beaa0c",
       "version_major": 2,
       "version_minor": 0
      },
      "text/plain": [
       "Downloading (…)d1a66d41f8/README.md:   0%|          | 0.00/3.68k [00:00<?, ?B/s]"
      ]
     },
     "metadata": {},
     "output_type": "display_data"
    },
    {
     "data": {
      "application/vnd.jupyter.widget-view+json": {
       "model_id": "acc2b9befa7b473c806cc97bbef04feb",
       "version_major": 2,
       "version_minor": 0
      },
      "text/plain": [
       "Downloading (…)a66d41f8/config.json:   0%|          | 0.00/627 [00:00<?, ?B/s]"
      ]
     },
     "metadata": {},
     "output_type": "display_data"
    },
    {
     "data": {
      "application/vnd.jupyter.widget-view+json": {
       "model_id": "565bd491b211477d9b58ee8c198812b1",
       "version_major": 2,
       "version_minor": 0
      },
      "text/plain": [
       "Downloading (…)ce_transformers.json:   0%|          | 0.00/122 [00:00<?, ?B/s]"
      ]
     },
     "metadata": {},
     "output_type": "display_data"
    },
    {
     "data": {
      "application/vnd.jupyter.widget-view+json": {
       "model_id": "f9cb38b6678049ce95822a5b6258ad0f",
       "version_major": 2,
       "version_minor": 0
      },
      "text/plain": [
       "Downloading pytorch_model.bin:   0%|          | 0.00/90.9M [00:00<?, ?B/s]"
      ]
     },
     "metadata": {},
     "output_type": "display_data"
    },
    {
     "data": {
      "application/vnd.jupyter.widget-view+json": {
       "model_id": "62db2f00da674d15b11784b77e4afd01",
       "version_major": 2,
       "version_minor": 0
      },
      "text/plain": [
       "Downloading (…)nce_bert_config.json:   0%|          | 0.00/53.0 [00:00<?, ?B/s]"
      ]
     },
     "metadata": {},
     "output_type": "display_data"
    },
    {
     "data": {
      "application/vnd.jupyter.widget-view+json": {
       "model_id": "184a244e10ab4d5199d60460d66080e1",
       "version_major": 2,
       "version_minor": 0
      },
      "text/plain": [
       "Downloading (…)cial_tokens_map.json:   0%|          | 0.00/112 [00:00<?, ?B/s]"
      ]
     },
     "metadata": {},
     "output_type": "display_data"
    },
    {
     "data": {
      "application/vnd.jupyter.widget-view+json": {
       "model_id": "9d5cc778033f406293dfe8f5745d6a5c",
       "version_major": 2,
       "version_minor": 0
      },
      "text/plain": [
       "Downloading (…)d41f8/tokenizer.json:   0%|          | 0.00/466k [00:00<?, ?B/s]"
      ]
     },
     "metadata": {},
     "output_type": "display_data"
    },
    {
     "data": {
      "application/vnd.jupyter.widget-view+json": {
       "model_id": "bba555b5b1b84379b0e16ab0e342091b",
       "version_major": 2,
       "version_minor": 0
      },
      "text/plain": [
       "Downloading (…)okenizer_config.json:   0%|          | 0.00/430 [00:00<?, ?B/s]"
      ]
     },
     "metadata": {},
     "output_type": "display_data"
    },
    {
     "data": {
      "application/vnd.jupyter.widget-view+json": {
       "model_id": "db6c61f200254cd2a7ec100002c23c59",
       "version_major": 2,
       "version_minor": 0
      },
      "text/plain": [
       "Downloading (…)d1a66d41f8/vocab.txt:   0%|          | 0.00/232k [00:00<?, ?B/s]"
      ]
     },
     "metadata": {},
     "output_type": "display_data"
    },
    {
     "data": {
      "application/vnd.jupyter.widget-view+json": {
       "model_id": "c00a01df79b34fee948de020dc2ef1a7",
       "version_major": 2,
       "version_minor": 0
      },
      "text/plain": [
       "Downloading (…)66d41f8/modules.json:   0%|          | 0.00/229 [00:00<?, ?B/s]"
      ]
     },
     "metadata": {},
     "output_type": "display_data"
    }
   ],
   "source": [
    "l = ['7eX5SypK35V8Y9d9pS6rWy',\n",
    "        '4fPBB44eDH71YohayI4eKV',\n",
    "        #'2M7UdnD0fEaryh8TnCvqFX',\n",
    "        #'6LqZFfv4fUP7va14Y6VW9a',\n",
    "]\n",
    "\n",
    "print(sp.audio_features(tracks=l))\n",
    "\n",
    "np.random.seed(3407)\n",
    "R = np.random.normal(0, 1, (25, 384))\n",
    "\n",
    "from sentence_transformers import SentenceTransformer\n",
    "embedder = SentenceTransformer('msmarco-MiniLM-L-6-v3')"
   ]
  },
  {
   "cell_type": "code",
   "execution_count": 5,
   "metadata": {},
   "outputs": [],
   "source": [
    "embed_remover = re.compile(r'\\D*')\n",
    "\n",
    "def remove_song_anatomy_tags(l):\n",
    "    l = l.split('\\n')\n",
    "    l = l[1::]\n",
    "    edited = []\n",
    "\n",
    "    last_line = l[-1]\n",
    "    last_line = last_line.split(' ')\n",
    "    last_line[-1] = re.findall(embed_remover, last_line[-1])[0]\n",
    "    l[-1] = ' '.join(last_line)\n",
    "\n",
    "    for i in l:\n",
    "        if i == '':\n",
    "            continue\n",
    "\n",
    "        if i == ' ':\n",
    "            continue\n",
    "\n",
    "        edited.append(i)\n",
    "\n",
    "    return ' '.join(edited)\n",
    "\n",
    "\n",
    "def get_song_lyrics_and_features(track_id, track_name, artist_name, popularity=50, explicit=0):\n",
    "    feature_list = []\n",
    "    track_features = sp.audio_features(tracks = [track_id])[0]\n",
    "\n",
    "    feature_names = ['danceability', 'energy', 'key', 'loudness', 'mode', 'speechiness', 'acousticness', 'instrumentalness', 'liveness', 'valence', 'tempo', 'time_signature', 'duration_ms']\n",
    "\n",
    "    for feature in feature_names:\n",
    "        feature_list.append(track_features[feature])\n",
    "        \n",
    "    feature_list.append(popularity)\n",
    "    feature_list.append(explicit)\n",
    "    print(feature_list)\n",
    "\n",
    "    \n",
    "    max_tries = 4\n",
    "\n",
    "    for i in range(max_tries):\n",
    "\n",
    "        try:\n",
    "            song = genius.search_song(track_name, artist_name)\n",
    "            break\n",
    "        except requests.exceptions.Timeout:\n",
    "            print(f'{track_name} pooped itself: {i} tries')\n",
    "            if i == max_tries - 1:\n",
    "                song = 'blank'\n",
    "                raise\n",
    "\n",
    "    # print(song.lyrics)\n",
    "    embeddings = embedder.encode(remove_song_anatomy_tags(song.lyrics), show_progress_bar=True)\n",
    "    embeddings_proj = np.dot(R, embeddings)\n",
    "\n",
    "    feature_list.extend(embeddings_proj)\n",
    "    print(feature_list)\n",
    "    return feature_list\n",
    "\n",
    "\n",
    "# objs = list(bucket.objects.filter(Prefix=track_id))\n",
    "#     if len(objs) > 0 and objs[0].key == track_id:\n",
    "#         print(f\"{track_name} is already in the S3 bucket.\")\n",
    "#         continue"
   ]
  },
  {
   "cell_type": "code",
   "execution_count": 8,
   "metadata": {},
   "outputs": [
    {
     "name": "stdout",
     "output_type": "stream",
     "text": [
      "Don't Let the Green Grass Fool You Wilson Pickett\n",
      "[0.573, 0.707, 6, -8.29, 0, 0.0632, 0.442, 0.000241, 0.123, 0.961, 152.467, 4, 169707, 51, 0]\n",
      "Searching for \"Don't Let the Green Grass Fool You\" by Wilson Pickett...\n",
      "Done.\n"
     ]
    },
    {
     "data": {
      "application/vnd.jupyter.widget-view+json": {
       "model_id": "4e077133c1764f1c9cc19921f90ae3ee",
       "version_major": 2,
       "version_minor": 0
      },
      "text/plain": [
       "Batches:   0%|          | 0/1 [00:00<?, ?it/s]"
      ]
     },
     "metadata": {},
     "output_type": "display_data"
    },
    {
     "name": "stdout",
     "output_type": "stream",
     "text": [
      "[0.573, 0.707, 6, -8.29, 0, 0.0632, 0.442, 0.000241, 0.123, 0.961, 152.467, 4, 169707, 51, 0, -4.43101237632808, -1.3624465109888164, 1.7886000610599309, 2.4334801231404457, 2.5731902978837504, 0.9116472704598317, 0.5386050733645735, 1.1442453832281665, -1.6419258944452841, -0.40489539001767416, -1.4054318218731816, -5.7961042523803, -6.676508637842356, -7.29755682948978, 0.4076802476496706, -1.3839950788670916, 1.4313023161942402, -3.384572124597999, -5.773655045663233, -0.5985818936859117, -6.153295052942207, 4.432238650479825, -0.6879306025188692, -5.4401336275893915, -2.8045419943604024]\n",
      "79krwDoFzJ6dbNRwceAwgH\n",
      "Pictures of You PREP\n",
      "[0.919, 0.519, 2, -6.407, 1, 0.0537, 0.139, 2.67e-05, 0.166, 0.555, 115.992, 4, 235631, 0, 0]\n",
      "Searching for \"Pictures of You\" by PREP...\n",
      "Done.\n"
     ]
    },
    {
     "data": {
      "application/vnd.jupyter.widget-view+json": {
       "model_id": "419e449d681146a29d8ed7679c257951",
       "version_major": 2,
       "version_minor": 0
      },
      "text/plain": [
       "Batches:   0%|          | 0/1 [00:00<?, ?it/s]"
      ]
     },
     "metadata": {},
     "output_type": "display_data"
    },
    {
     "name": "stdout",
     "output_type": "stream",
     "text": [
      "[0.919, 0.519, 2, -6.407, 1, 0.0537, 0.139, 2.67e-05, 0.166, 0.555, 115.992, 4, 235631, 0, 0, -1.6335635173852445, -0.9348303066209556, 2.7321617254753443, 5.936774990531057, 3.453786851430933, -5.150879706288572, -3.5402722080975035, 2.109513605553212, 5.139658582509666, -8.678709565149612, -0.10583859664801887, -1.1558839756243509, -2.3498391381588712, -4.111824575215946, -3.3858322366676985, 7.873967338923208, -3.690916586628629, 2.012634500411329, -2.2955384059575246, -1.782506487800636, -5.427592528787896, 2.9839141487648635, -0.24540869949188693, 2.873463547981641, 1.7247231273303767]\n",
      "0fNY6p1S1PCwpnK9hlP4qz\n",
      "I Can't Answer That PREP\n",
      "[0.761, 0.457, 10, -7.232, 1, 0.0479, 0.0502, 0.000109, 0.106, 0.866, 153.008, 4, 246707, 31, 0]\n",
      "Searching for \"I Can't Answer That\" by PREP...\n",
      "Done.\n"
     ]
    },
    {
     "data": {
      "application/vnd.jupyter.widget-view+json": {
       "model_id": "9c9f55ddb6704c09af3707d9ee0e0e43",
       "version_major": 2,
       "version_minor": 0
      },
      "text/plain": [
       "Batches:   0%|          | 0/1 [00:00<?, ?it/s]"
      ]
     },
     "metadata": {},
     "output_type": "display_data"
    },
    {
     "name": "stdout",
     "output_type": "stream",
     "text": [
      "[0.761, 0.457, 10, -7.232, 1, 0.0479, 0.0502, 0.000109, 0.106, 0.866, 153.008, 4, 246707, 31, 0, -5.957649702339686, 1.7957610152647732, 3.4361783447211245, 5.177048339343599, -1.0346974649278269, -2.9145071332227848, -4.674081924847007, 6.535949933268457, 4.506398875871369, -5.054211235951135, -2.842479949470984, -3.496964941377114, -6.221338816272662, -5.954183997976298, -4.889607948185495, 1.6611747618060293, 0.16701277480897025, -4.627846796869395, -1.943536499630194, 3.177510752960368, -7.049686198735225, 2.902164584048769, -0.9488077252975273, 7.020878711788388, 1.7722166887563775]\n",
      "3UkWgTbTdxYlGchZQEVu1A\n"
     ]
    }
   ],
   "source": [
    "playlist_id = 'https://open.spotify.com/playlist/2AXUGe93UP8oVj3F0a1Hoo?si=836ee38e473943a6'\n",
    "results = sp.playlist_tracks(playlist_id)\n",
    "# print(results)\n",
    "for item in results['items'][:3]:\n",
    "    track = item['track']\n",
    "    track_id = track['id']\n",
    "    track_name = track['name']\n",
    "    artist_name = track['artists'][0]['name']\n",
    "    popularity = track['popularity']\n",
    "    explicit = int(track['explicit'])\n",
    "    print(track_name, artist_name)\n",
    "    get_song_lyrics_and_features(track_id, track_name, artist_name, popularity, explicit)\n",
    "    print(track_id)\n",
    "\n"
   ]
  },
  {
   "cell_type": "code",
   "execution_count": null,
   "metadata": {},
   "outputs": [],
   "source": []
  }
 ],
 "metadata": {
  "kernelspec": {
   "display_name": "tf",
   "language": "python",
   "name": "python3"
  },
  "language_info": {
   "codemirror_mode": {
    "name": "ipython",
    "version": 3
   },
   "file_extension": ".py",
   "mimetype": "text/x-python",
   "name": "python",
   "nbconvert_exporter": "python",
   "pygments_lexer": "ipython3",
   "version": "3.9.13"
  },
  "orig_nbformat": 4
 },
 "nbformat": 4,
 "nbformat_minor": 2
}
